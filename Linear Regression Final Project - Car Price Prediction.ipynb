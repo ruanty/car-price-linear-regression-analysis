{
 "cells": [
  {
   "cell_type": "markdown",
   "id": "324cac87",
   "metadata": {},
   "source": [
    "# CAR PRICE PREDICTION"
   ]
  },
  {
   "cell_type": "markdown",
   "id": "2cf8bdb8",
   "metadata": {},
   "source": [
    "### *- Nancy Ruan, Monashree Sanil, Wei He*"
   ]
  },
  {
   "cell_type": "code",
   "execution_count": 1,
   "id": "fbac59e5",
   "metadata": {},
   "outputs": [],
   "source": [
    "import numpy as np\n",
    "import pandas as pd\n",
    "from scipy.stats import norm\n",
    "import scipy\n",
    "import re\n",
    "import matplotlib.pyplot as plt\n",
    "import matplotlib.patches as mpatches\n",
    "from matplotlib import colors\n",
    "import seaborn as sns\n",
    "from statsmodels.stats.outliers_influence import variance_inflation_factor\n",
    "from patsy import dmatrices\n",
    "import statsmodels.formula.api as smf\n",
    "from statsmodels.stats.diagnostic import het_breuschpagan\n",
    "import statsmodels.api as sm\n",
    "from scipy.stats import jarque_bera\n",
    "import statsmodels.api as sm"
   ]
  },
  {
   "cell_type": "code",
   "execution_count": 2,
   "id": "c6d4f2ac",
   "metadata": {},
   "outputs": [],
   "source": [
    "import warnings\n",
    "warnings.filterwarnings('ignore')"
   ]
  },
  {
   "cell_type": "code",
   "execution_count": 3,
   "id": "8e66a507",
   "metadata": {},
   "outputs": [],
   "source": [
    "# Let's load the data into a pandas dataframe\n",
    "df = pd.read_csv(\"data.csv\")"
   ]
  },
  {
   "cell_type": "markdown",
   "id": "cdbaebfd",
   "metadata": {},
   "source": [
    "<div class=\"alert alert-block alert-warning\"> \n",
    "First things first, let's see how many features and observations we have for predicting the price of a car."
   ]
  },
  {
   "cell_type": "code",
   "execution_count": 4,
   "id": "24363412",
   "metadata": {},
   "outputs": [
    {
     "name": "stdout",
     "output_type": "stream",
     "text": [
      "Number of features: 15\n",
      "Number of observations: 11914\n"
     ]
    }
   ],
   "source": [
    "print(\"Number of features:\", df.shape[1] - 1)\n",
    "print(\"Number of observations:\", df.shape[0])"
   ]
  },
  {
   "cell_type": "markdown",
   "id": "24eae6ed",
   "metadata": {},
   "source": [
    "<div class=\"alert alert-block alert-warning\">\n",
    "We have 15 features to work with. The sample size seems to be good enough. Normality in car price and estimates may not creep in. But, we can investigate on this later using appropriate techniques and get concrete inferences. For now, we need to find out what all features do we have at hand to predict the price of a car and how many of them are numerical and how many are categorical."
   ]
  },
  {
   "cell_type": "code",
   "execution_count": 5,
   "id": "d3b0f108",
   "metadata": {},
   "outputs": [
    {
     "data": {
      "text/html": [
       "<div>\n",
       "<style scoped>\n",
       "    .dataframe tbody tr th:only-of-type {\n",
       "        vertical-align: middle;\n",
       "    }\n",
       "\n",
       "    .dataframe tbody tr th {\n",
       "        vertical-align: top;\n",
       "    }\n",
       "\n",
       "    .dataframe thead th {\n",
       "        text-align: right;\n",
       "    }\n",
       "</style>\n",
       "<table border=\"1\" class=\"dataframe\">\n",
       "  <thead>\n",
       "    <tr style=\"text-align: right;\">\n",
       "      <th></th>\n",
       "      <th>Make</th>\n",
       "      <th>Model</th>\n",
       "      <th>Year</th>\n",
       "      <th>Engine Fuel Type</th>\n",
       "      <th>Engine HP</th>\n",
       "      <th>Engine Cylinders</th>\n",
       "      <th>Transmission Type</th>\n",
       "      <th>Driven_Wheels</th>\n",
       "      <th>Number of Doors</th>\n",
       "      <th>Market Category</th>\n",
       "      <th>Vehicle Size</th>\n",
       "      <th>Vehicle Style</th>\n",
       "      <th>highway MPG</th>\n",
       "      <th>city mpg</th>\n",
       "      <th>Popularity</th>\n",
       "      <th>MSRP</th>\n",
       "    </tr>\n",
       "  </thead>\n",
       "  <tbody>\n",
       "    <tr>\n",
       "      <th>0</th>\n",
       "      <td>BMW</td>\n",
       "      <td>1 Series M</td>\n",
       "      <td>2011</td>\n",
       "      <td>premium unleaded (required)</td>\n",
       "      <td>335.0</td>\n",
       "      <td>6.0</td>\n",
       "      <td>MANUAL</td>\n",
       "      <td>rear wheel drive</td>\n",
       "      <td>2.0</td>\n",
       "      <td>Factory Tuner,Luxury,High-Performance</td>\n",
       "      <td>Compact</td>\n",
       "      <td>Coupe</td>\n",
       "      <td>26</td>\n",
       "      <td>19</td>\n",
       "      <td>3916</td>\n",
       "      <td>46135</td>\n",
       "    </tr>\n",
       "    <tr>\n",
       "      <th>1</th>\n",
       "      <td>BMW</td>\n",
       "      <td>1 Series</td>\n",
       "      <td>2011</td>\n",
       "      <td>premium unleaded (required)</td>\n",
       "      <td>300.0</td>\n",
       "      <td>6.0</td>\n",
       "      <td>MANUAL</td>\n",
       "      <td>rear wheel drive</td>\n",
       "      <td>2.0</td>\n",
       "      <td>Luxury,Performance</td>\n",
       "      <td>Compact</td>\n",
       "      <td>Convertible</td>\n",
       "      <td>28</td>\n",
       "      <td>19</td>\n",
       "      <td>3916</td>\n",
       "      <td>40650</td>\n",
       "    </tr>\n",
       "    <tr>\n",
       "      <th>2</th>\n",
       "      <td>BMW</td>\n",
       "      <td>1 Series</td>\n",
       "      <td>2011</td>\n",
       "      <td>premium unleaded (required)</td>\n",
       "      <td>300.0</td>\n",
       "      <td>6.0</td>\n",
       "      <td>MANUAL</td>\n",
       "      <td>rear wheel drive</td>\n",
       "      <td>2.0</td>\n",
       "      <td>Luxury,High-Performance</td>\n",
       "      <td>Compact</td>\n",
       "      <td>Coupe</td>\n",
       "      <td>28</td>\n",
       "      <td>20</td>\n",
       "      <td>3916</td>\n",
       "      <td>36350</td>\n",
       "    </tr>\n",
       "    <tr>\n",
       "      <th>3</th>\n",
       "      <td>BMW</td>\n",
       "      <td>1 Series</td>\n",
       "      <td>2011</td>\n",
       "      <td>premium unleaded (required)</td>\n",
       "      <td>230.0</td>\n",
       "      <td>6.0</td>\n",
       "      <td>MANUAL</td>\n",
       "      <td>rear wheel drive</td>\n",
       "      <td>2.0</td>\n",
       "      <td>Luxury,Performance</td>\n",
       "      <td>Compact</td>\n",
       "      <td>Coupe</td>\n",
       "      <td>28</td>\n",
       "      <td>18</td>\n",
       "      <td>3916</td>\n",
       "      <td>29450</td>\n",
       "    </tr>\n",
       "    <tr>\n",
       "      <th>4</th>\n",
       "      <td>BMW</td>\n",
       "      <td>1 Series</td>\n",
       "      <td>2011</td>\n",
       "      <td>premium unleaded (required)</td>\n",
       "      <td>230.0</td>\n",
       "      <td>6.0</td>\n",
       "      <td>MANUAL</td>\n",
       "      <td>rear wheel drive</td>\n",
       "      <td>2.0</td>\n",
       "      <td>Luxury</td>\n",
       "      <td>Compact</td>\n",
       "      <td>Convertible</td>\n",
       "      <td>28</td>\n",
       "      <td>18</td>\n",
       "      <td>3916</td>\n",
       "      <td>34500</td>\n",
       "    </tr>\n",
       "  </tbody>\n",
       "</table>\n",
       "</div>"
      ],
      "text/plain": [
       "  Make       Model  Year             Engine Fuel Type  Engine HP  \\\n",
       "0  BMW  1 Series M  2011  premium unleaded (required)      335.0   \n",
       "1  BMW    1 Series  2011  premium unleaded (required)      300.0   \n",
       "2  BMW    1 Series  2011  premium unleaded (required)      300.0   \n",
       "3  BMW    1 Series  2011  premium unleaded (required)      230.0   \n",
       "4  BMW    1 Series  2011  premium unleaded (required)      230.0   \n",
       "\n",
       "   Engine Cylinders Transmission Type     Driven_Wheels  Number of Doors  \\\n",
       "0               6.0            MANUAL  rear wheel drive              2.0   \n",
       "1               6.0            MANUAL  rear wheel drive              2.0   \n",
       "2               6.0            MANUAL  rear wheel drive              2.0   \n",
       "3               6.0            MANUAL  rear wheel drive              2.0   \n",
       "4               6.0            MANUAL  rear wheel drive              2.0   \n",
       "\n",
       "                         Market Category Vehicle Size Vehicle Style  \\\n",
       "0  Factory Tuner,Luxury,High-Performance      Compact         Coupe   \n",
       "1                     Luxury,Performance      Compact   Convertible   \n",
       "2                Luxury,High-Performance      Compact         Coupe   \n",
       "3                     Luxury,Performance      Compact         Coupe   \n",
       "4                                 Luxury      Compact   Convertible   \n",
       "\n",
       "   highway MPG  city mpg  Popularity   MSRP  \n",
       "0           26        19        3916  46135  \n",
       "1           28        19        3916  40650  \n",
       "2           28        20        3916  36350  \n",
       "3           28        18        3916  29450  \n",
       "4           28        18        3916  34500  "
      ]
     },
     "execution_count": 5,
     "metadata": {},
     "output_type": "execute_result"
    }
   ],
   "source": [
    "df.head()"
   ]
  },
  {
   "cell_type": "code",
   "execution_count": 6,
   "id": "5099741a",
   "metadata": {},
   "outputs": [
    {
     "data": {
      "text/plain": [
       "Make                  object\n",
       "Model                 object\n",
       "Year                   int64\n",
       "Engine Fuel Type      object\n",
       "Engine HP            float64\n",
       "Engine Cylinders     float64\n",
       "Transmission Type     object\n",
       "Driven_Wheels         object\n",
       "Number of Doors      float64\n",
       "Market Category       object\n",
       "Vehicle Size          object\n",
       "Vehicle Style         object\n",
       "highway MPG            int64\n",
       "city mpg               int64\n",
       "Popularity             int64\n",
       "MSRP                   int64\n",
       "dtype: object"
      ]
     },
     "execution_count": 6,
     "metadata": {},
     "output_type": "execute_result"
    }
   ],
   "source": [
    "df.dtypes"
   ]
  },
  {
   "cell_type": "markdown",
   "id": "530f3d76",
   "metadata": {},
   "source": [
    "<div class=\"alert alert-block alert-warning\">\n",
    "Using pratical understanding and looking at the data type, we can identify some of the categorical and numerical variables:\n",
    "    <li>Categorical variables: Make, Model, Engine Fuel Type, Transmission Type, Driven_Wheels, Market Catgeory, Vehicle Size, Vehicle Style </li>\n",
    "    <li>Numerical variables: Year, Engine HP, highway MPG, city mpg, Popularity</li>\n",
    "Engine Cylinders, Number of Doors have numeric data types. But intuitively, we can infer that these would also be categorical variables. Let's confirm on our inferences about categorical variables."
   ]
  },
  {
   "cell_type": "code",
   "execution_count": 7,
   "id": "6e7fe787",
   "metadata": {
    "collapsed": true
   },
   "outputs": [
    {
     "data": {
      "text/plain": [
       "(Chevrolet        1123\n",
       " Ford              881\n",
       " Volkswagen        809\n",
       " Toyota            746\n",
       " Dodge             626\n",
       " Nissan            558\n",
       " GMC               515\n",
       " Honda             449\n",
       " Mazda             423\n",
       " Cadillac          397\n",
       " Mercedes-Benz     353\n",
       " Suzuki            351\n",
       " BMW               334\n",
       " Infiniti          330\n",
       " Audi              328\n",
       " Hyundai           303\n",
       " Volvo             281\n",
       " Subaru            256\n",
       " Acura             252\n",
       " Kia               231\n",
       " Mitsubishi        213\n",
       " Lexus             202\n",
       " Buick             196\n",
       " Chrysler          187\n",
       " Pontiac           186\n",
       " Lincoln           164\n",
       " Oldsmobile        150\n",
       " Land Rover        143\n",
       " Porsche           136\n",
       " Saab              111\n",
       " Aston Martin       93\n",
       " Plymouth           82\n",
       " Bentley            74\n",
       " Ferrari            69\n",
       " FIAT               62\n",
       " Scion              60\n",
       " Maserati           58\n",
       " Lamborghini        52\n",
       " Rolls-Royce        31\n",
       " Lotus              29\n",
       " Tesla              18\n",
       " HUMMER             17\n",
       " Maybach            16\n",
       " Alfa Romeo          5\n",
       " McLaren             5\n",
       " Genesis             3\n",
       " Bugatti             3\n",
       " Spyker              3\n",
       " Name: Make, dtype: int64,\n",
       " 48)"
      ]
     },
     "execution_count": 7,
     "metadata": {},
     "output_type": "execute_result"
    }
   ],
   "source": [
    "# Make\n",
    "df['Make'].value_counts(), len(df['Make'].unique())"
   ]
  },
  {
   "cell_type": "code",
   "execution_count": 8,
   "id": "2449d562",
   "metadata": {},
   "outputs": [
    {
     "data": {
      "text/plain": [
       "505"
      ]
     },
     "execution_count": 8,
     "metadata": {},
     "output_type": "execute_result"
    }
   ],
   "source": [
    "# Model\n",
    "len(df.groupby(\"Model\").filter(lambda x: len(x) < 10 )['Model'].unique())"
   ]
  },
  {
   "cell_type": "markdown",
   "id": "832ad1cd",
   "metadata": {},
   "source": [
    "<div class=\"alert alert-block alert-warning\">\n",
    "It looks like if we treat Model as categorical, we would have 914 categores which doesn't seem right. More than half of the model categories have less than 10 observations. Hence, we can say that 'Model' won't be a significant contributing feature for predicting the price. Making it categorical would lead to introduction of many dummy variables and this could lead to unecessary multicollinearity and noise. We will drop 'Model' feature from our data."
   ]
  },
  {
   "cell_type": "code",
   "execution_count": 9,
   "id": "d93ad57a",
   "metadata": {},
   "outputs": [
    {
     "data": {
      "text/plain": [
       "Index(['Make', 'Year', 'Engine Fuel Type', 'Engine HP', 'Engine Cylinders',\n",
       "       'Transmission Type', 'Driven_Wheels', 'Number of Doors',\n",
       "       'Market Category', 'Vehicle Size', 'Vehicle Style', 'highway MPG',\n",
       "       'city mpg', 'Popularity', 'MSRP'],\n",
       "      dtype='object')"
      ]
     },
     "execution_count": 9,
     "metadata": {},
     "output_type": "execute_result"
    }
   ],
   "source": [
    "df = df.drop(columns = 'Model')\n",
    "df.columns"
   ]
  },
  {
   "cell_type": "code",
   "execution_count": 10,
   "id": "1b0fac56",
   "metadata": {},
   "outputs": [
    {
     "data": {
      "text/plain": [
       "(regular unleaded                                7172\n",
       " premium unleaded (required)                     2009\n",
       " premium unleaded (recommended)                  1523\n",
       " flex-fuel (unleaded/E85)                         899\n",
       " diesel                                           154\n",
       " electric                                          66\n",
       " flex-fuel (premium unleaded required/E85)         54\n",
       " flex-fuel (premium unleaded recommended/E85)      26\n",
       " flex-fuel (unleaded/natural gas)                   6\n",
       " natural gas                                        2\n",
       " Name: Engine Fuel Type, dtype: int64,\n",
       " 11)"
      ]
     },
     "execution_count": 10,
     "metadata": {},
     "output_type": "execute_result"
    }
   ],
   "source": [
    "# Engine Fuel Type\n",
    "df['Engine Fuel Type'].value_counts(), len(df['Engine Fuel Type'].unique())"
   ]
  },
  {
   "cell_type": "markdown",
   "id": "27e3cdff",
   "metadata": {},
   "source": [
    "<div class=\"alert alert-block alert-warning\">\n",
    "We can club 'premium unleaded (required)', 'premium unleaded (recommended)' under one category 'premium'. Also, we can club all categories starting with flex-fuel under one category. "
   ]
  },
  {
   "cell_type": "code",
   "execution_count": 11,
   "id": "3194b944",
   "metadata": {},
   "outputs": [
    {
     "data": {
      "text/plain": [
       "(regular        7172\n",
       " premium        3532\n",
       " flex-fuel       985\n",
       " diesel          154\n",
       " electric         66\n",
       " natural gas       2\n",
       " Name: Engine Fuel Type, dtype: int64,\n",
       " 7)"
      ]
     },
     "execution_count": 11,
     "metadata": {},
     "output_type": "execute_result"
    }
   ],
   "source": [
    "df.loc[df['Engine Fuel Type'] != 'natural gas', 'Engine Fuel Type'] = df.loc[df['Engine Fuel Type'] != 'natural gas', 'Engine Fuel Type'].str.split(\" \",expand = True)[0]\n",
    "df['Engine Fuel Type'].value_counts(), len(df['Engine Fuel Type'].unique())"
   ]
  },
  {
   "cell_type": "code",
   "execution_count": 12,
   "id": "50437d8c",
   "metadata": {},
   "outputs": [
    {
     "data": {
      "text/plain": [
       "(AUTOMATIC           8266\n",
       " MANUAL              2935\n",
       " AUTOMATED_MANUAL     626\n",
       " DIRECT_DRIVE          68\n",
       " UNKNOWN               19\n",
       " Name: Transmission Type, dtype: int64,\n",
       " 5)"
      ]
     },
     "execution_count": 12,
     "metadata": {},
     "output_type": "execute_result"
    }
   ],
   "source": [
    "# Transmission Type\n",
    "df['Transmission Type'].value_counts(), len(df['Transmission Type'].unique())"
   ]
  },
  {
   "cell_type": "code",
   "execution_count": 13,
   "id": "00a1d67b",
   "metadata": {},
   "outputs": [
    {
     "data": {
      "text/plain": [
       "(front wheel drive    4787\n",
       " rear wheel drive     3371\n",
       " all wheel drive      2353\n",
       " four wheel drive     1403\n",
       " Name: Driven_Wheels, dtype: int64,\n",
       " 4)"
      ]
     },
     "execution_count": 13,
     "metadata": {},
     "output_type": "execute_result"
    }
   ],
   "source": [
    "# Driven_Wheels\n",
    "df['Driven_Wheels'].value_counts(), len(df['Driven_Wheels'].unique())"
   ]
  },
  {
   "cell_type": "code",
   "execution_count": 14,
   "id": "bd3f0495",
   "metadata": {},
   "outputs": [
    {
     "data": {
      "text/plain": [
       "(Compact    4764\n",
       " Midsize    4373\n",
       " Large      2777\n",
       " Name: Vehicle Size, dtype: int64,\n",
       " 3)"
      ]
     },
     "execution_count": 14,
     "metadata": {},
     "output_type": "execute_result"
    }
   ],
   "source": [
    "# Vehicle Size\n",
    "df['Vehicle Size'].value_counts(), len(df['Vehicle Size'].unique())"
   ]
  },
  {
   "cell_type": "code",
   "execution_count": 15,
   "id": "02b80b10",
   "metadata": {},
   "outputs": [
    {
     "data": {
      "text/plain": [
       "(Sedan                  3048\n",
       " 4dr SUV                2488\n",
       " Coupe                  1211\n",
       " Convertible             793\n",
       " 4dr Hatchback           702\n",
       " Crew Cab Pickup         681\n",
       " Extended Cab Pickup     623\n",
       " Wagon                   592\n",
       " 2dr Hatchback           506\n",
       " Passenger Minivan       417\n",
       " Regular Cab Pickup      392\n",
       " 2dr SUV                 138\n",
       " Passenger Van           128\n",
       " Cargo Van                95\n",
       " Cargo Minivan            71\n",
       " Convertible SUV          29\n",
       " Name: Vehicle Style, dtype: int64,\n",
       " 16)"
      ]
     },
     "execution_count": 15,
     "metadata": {},
     "output_type": "execute_result"
    }
   ],
   "source": [
    "# Vehicle Style\n",
    "df['Vehicle Style'].value_counts(), len(df['Vehicle Style'].unique())"
   ]
  },
  {
   "cell_type": "markdown",
   "id": "62635b71",
   "metadata": {},
   "source": [
    "<div class=\"alert alert-block alert-warning\">\n",
    "There are too many unnecessary categories in this feature. Different categories based on the number of doors like '4dr SUV', '2dr SUV' is providing us redundant information that is already captured by the 'Number of Doors' feature. Similarly, we also have different categories based on the number of seats in the car. This information is also captured by 'Vehicle Size' feature. This can lead to multicollinearity amon the features. Hence, we can group such categories under one category."
   ]
  },
  {
   "cell_type": "code",
   "execution_count": 18,
   "id": "b2435dc5",
   "metadata": {},
   "outputs": [],
   "source": [
    "def clean_vehicle_style(vehicle_style):\n",
    "    vehicle_style = vehicle_style.lower().strip()\n",
    "    if re.search(r'\\b[0-9]dr\\b', vehicle_style):\n",
    "        return re.sub(r'\\b[0-9]dr\\b', \"\", vehicle_style).strip()\n",
    "    elif re.search(r'\\bregular\\b|\\bextended\\b|\\bcrew\\b', vehicle_style):\n",
    "        return re.sub(r'\\bregular\\b|\\bextended\\b|\\bcrew\\b', \"\", vehicle_style).strip()\n",
    "    return vehicle_style     "
   ]
  },
  {
   "cell_type": "code",
   "execution_count": 19,
   "id": "e91af556",
   "metadata": {},
   "outputs": [
    {
     "data": {
      "text/plain": [
       "(sedan                3048\n",
       " suv                  2626\n",
       " cab pickup           1696\n",
       " coupe                1211\n",
       " hatchback            1208\n",
       " convertible           793\n",
       " wagon                 592\n",
       " passenger minivan     417\n",
       " passenger van         128\n",
       " cargo van              95\n",
       " cargo minivan          71\n",
       " convertible suv        29\n",
       " Name: Vehicle Style, dtype: int64,\n",
       " 12)"
      ]
     },
     "execution_count": 19,
     "metadata": {},
     "output_type": "execute_result"
    }
   ],
   "source": [
    "df['Vehicle Style']=df['Vehicle Style'].apply(clean_vehicle_style)\n",
    "df['Vehicle Style'].value_counts(), len(df['Vehicle Style'].unique())"
   ]
  },
  {
   "cell_type": "code",
   "execution_count": 20,
   "id": "2cdb3569",
   "metadata": {},
   "outputs": [
    {
     "data": {
      "text/plain": [
       "(4.0     4752\n",
       " 6.0     4489\n",
       " 8.0     2031\n",
       " 12.0     230\n",
       " 5.0      225\n",
       " 10.0      68\n",
       " 0.0       56\n",
       " 3.0       30\n",
       " 16.0       3\n",
       " Name: Engine Cylinders, dtype: int64,\n",
       " 10)"
      ]
     },
     "execution_count": 20,
     "metadata": {},
     "output_type": "execute_result"
    }
   ],
   "source": [
    "# Engine Cylinders\n",
    "df['Engine Cylinders'].value_counts(), len(df['Engine Cylinders'].unique())"
   ]
  },
  {
   "cell_type": "code",
   "execution_count": 21,
   "id": "ab19394c",
   "metadata": {},
   "outputs": [
    {
     "data": {
      "text/plain": [
       "(4.0    8353\n",
       " 2.0    3160\n",
       " 3.0     395\n",
       " Name: Number of Doors, dtype: int64,\n",
       " 4)"
      ]
     },
     "execution_count": 21,
     "metadata": {},
     "output_type": "execute_result"
    }
   ],
   "source": [
    "# Number of Doors\n",
    "df['Number of Doors'].value_counts(), len(df['Number of Doors'].unique())"
   ]
  },
  {
   "cell_type": "code",
   "execution_count": 22,
   "id": "e5f59617",
   "metadata": {},
   "outputs": [
    {
     "data": {
      "text/plain": [
       "array(['Factory Tuner', 'Luxury', 'High-Performance', 'Performance',\n",
       "       'Flex Fuel', nan, 'Hatchback', 'Hybrid', 'Diesel', 'Exotic',\n",
       "       'Crossover'], dtype=object)"
      ]
     },
     "execution_count": 22,
     "metadata": {},
     "output_type": "execute_result"
    }
   ],
   "source": [
    "# Market Category\n",
    "df['Market Category'] = df['Market Category'].str.split(',')\n",
    "df['Market Category'].explode().unique()"
   ]
  },
  {
   "cell_type": "markdown",
   "id": "04bc6b80",
   "metadata": {},
   "source": [
    "<div class=\"alert alert-block alert-warning\">\n",
    "We have overlapping categories in Market Category feature. Hence, we cannot use dummy variables for this categorical variable as it violates the assumption of categories being mututally exclusive. On exploding, we can see that there are categories like Flex Fuel, Hybrid, Hatchback etc. This kind of information is provided by other features like 'Vehicle Style', 'Engine Fuel Type' etc. Hence, the categories that can add information is whether the car is luxury or exotic."
   ]
  },
  {
   "cell_type": "code",
   "execution_count": 23,
   "id": "bd63e401",
   "metadata": {},
   "outputs": [],
   "source": [
    "def check(x):\n",
    "    if type(x)!= list:\n",
    "        return x\n",
    "    elif \"luxury\" in [a.lower().strip() for a in x]:\n",
    "        return \"Luxury\"\n",
    "    elif \"exotic\" in [a.lower().strip() for a in x]:\n",
    "        return \"Exotic\"\n",
    "    else:\n",
    "        return \"Other\"\n",
    "        \n",
    "df['Market Category'] = df['Market Category'].apply(check)"
   ]
  },
  {
   "cell_type": "code",
   "execution_count": 24,
   "id": "bbb040e8",
   "metadata": {},
   "outputs": [
    {
     "data": {
      "text/plain": [
       "Other     4592\n",
       "Luxury    3288\n",
       "Exotic     292\n",
       "Name: Market Category, dtype: int64"
      ]
     },
     "execution_count": 24,
     "metadata": {},
     "output_type": "execute_result"
    }
   ],
   "source": [
    "df['Market Category'].value_counts()"
   ]
  },
  {
   "cell_type": "markdown",
   "id": "6f5dce21",
   "metadata": {},
   "source": [
    "<div class=\"alert alert-block alert-warning\">\n",
    "Next, we need to check missing data. "
   ]
  },
  {
   "cell_type": "code",
   "execution_count": 25,
   "id": "14fb057c",
   "metadata": {},
   "outputs": [
    {
     "data": {
      "text/plain": [
       "Market Category     31.408427\n",
       "Engine HP            0.579151\n",
       "Engine Cylinders     0.251805\n",
       "Number of Doors      0.050361\n",
       "Engine Fuel Type     0.025180\n",
       "dtype: float64"
      ]
     },
     "execution_count": 25,
     "metadata": {},
     "output_type": "execute_result"
    }
   ],
   "source": [
    "missing = df.isna().sum()\n",
    "missing = (missing/len(df))*100\n",
    "missing = missing.loc[missing > 0].sort_values(ascending=False)\n",
    "missing"
   ]
  },
  {
   "cell_type": "markdown",
   "id": "e38ea1df",
   "metadata": {},
   "source": [
    "<div class=\"alert alert-block alert-warning\">\n",
    "As very few observations are missing from 'Number of Doors', 'Engine Fuel Type', 'Engine Cylinders' and 'Engine HP', we can chose to ignore these observations. For 'Market Category' fetaure, we can replace missing values with a new category 'Unknown'."
   ]
  },
  {
   "cell_type": "code",
   "execution_count": 26,
   "id": "ff3148b6",
   "metadata": {},
   "outputs": [
    {
     "name": "stdout",
     "output_type": "stream",
     "text": [
      "Number of observations in cleaned data: 11812\n"
     ]
    }
   ],
   "source": [
    "df['Market Category'] = df['Market Category'].replace(np.nan, \"Unknown\")\n",
    "df = df.dropna()\n",
    "print(\"Number of observations in cleaned data:\", df.shape[0])"
   ]
  },
  {
   "cell_type": "markdown",
   "id": "7072be68",
   "metadata": {},
   "source": [
    "<div class=\"alert alert-block alert-warning\">\n",
    "That's a good amount of data!\n",
    "It is observed that 'Year' feature does not have any nonsensical value. Also, it makes more sense to transform 'Year' to indicate how many years it has been since the current year as we are concerned here about the selling price of the car."
   ]
  },
  {
   "cell_type": "code",
   "execution_count": 27,
   "id": "c69e7db7",
   "metadata": {},
   "outputs": [],
   "source": [
    "df['Year'] = 2021 - df['Year']"
   ]
  },
  {
   "cell_type": "code",
   "execution_count": 28,
   "id": "00a82e9d",
   "metadata": {},
   "outputs": [
    {
     "data": {
      "text/plain": [
       "Make                  object\n",
       "Year                   int64\n",
       "Engine Fuel Type      object\n",
       "Engine HP            float64\n",
       "Engine Cylinders     float64\n",
       "Transmission Type     object\n",
       "Driven_Wheels         object\n",
       "Number of Doors      float64\n",
       "Market Category       object\n",
       "Vehicle Size          object\n",
       "Vehicle Style         object\n",
       "highway MPG            int64\n",
       "city mpg               int64\n",
       "Popularity             int64\n",
       "MSRP                   int64\n",
       "dtype: object"
      ]
     },
     "execution_count": 28,
     "metadata": {},
     "output_type": "execute_result"
    }
   ],
   "source": [
    "df.dtypes"
   ]
  },
  {
   "cell_type": "code",
   "execution_count": 30,
   "id": "020fa72b",
   "metadata": {},
   "outputs": [
    {
     "data": {
      "image/png": "[encoded data removed]",
      "text/plain": [
       "<Figure size 648x432 with 1 Axes>"
      ]
     },
     "metadata": {
      "needs_background": "light"
     },
     "output_type": "display_data"
    }
   ],
   "source": [
    "# MSRP Distirbution\n",
    "\n",
    "fig, ax = plt.subplots(figsize=(9, 6))\n",
    "sns.distplot(df['MSRP'], fit=norm, color = \"#911B09\")\n",
    "ax.set_xlabel(\"Manufacturer's Suggested Retail Price\", color='#6B6969', fontsize=13, weight = 'bold')\n",
    "ax.set_title(\"Manufacturer's Suggested Retail Price Distribution\",\n",
    "             fontsize=15, weight='bold', x= 0.5, y = 1.1)\n",
    "ax.set_facecolor('#F7F5F5')\n",
    "ax.spines['top'].set_visible(False)\n",
    "ax.spines['right'].set_visible(False)\n",
    "plt.show()"
   ]
  },
  {
   "cell_type": "code",
   "execution_count": 31,
   "id": "76bdc9db",
   "metadata": {},
   "outputs": [
    {
     "name": "stdout",
     "output_type": "stream",
     "text": [
      "2065902\n",
      "497650.0\n",
      "107942.7499999999\n",
      "64854.5\n",
      "46350.0\n",
      "38961.999999999985\n",
      "33955.0\n",
      "29970.0\n",
      "26317.000000000004\n",
      "22935.0\n",
      "18372.000000000004\n",
      "14337.599999999999\n",
      "3553.29\n",
      "2239.2000000000003\n",
      "2000\n"
     ]
    }
   ],
   "source": [
    "# Calculate percentiles for MSRP\n",
    "print(df['MSRP'].max())\n",
    "print(np.percentile(df['MSRP'],99.9))\n",
    "print(np.percentile(df['MSRP'],95))\n",
    "print(np.percentile(df['MSRP'],90))\n",
    "print(np.percentile(df['MSRP'],80))\n",
    "print(np.percentile(df['MSRP'],70))\n",
    "print(np.percentile(df['MSRP'],60))\n",
    "print(np.percentile(df['MSRP'],50))\n",
    "print(np.percentile(df['MSRP'],40))\n",
    "print(np.percentile(df['MSRP'],30))\n",
    "print(np.percentile(df['MSRP'],20))\n",
    "print(np.percentile(df['MSRP'],15))\n",
    "print(np.percentile(df['MSRP'],13))\n",
    "print(np.percentile(df['MSRP'],10))\n",
    "print(df['MSRP'].min())"
   ]
  },
  {
   "cell_type": "markdown",
   "id": "34b004d1",
   "metadata": {},
   "source": [
    "<div class=\"alert alert-block alert-warning\">\n",
    "When we look at the distribution of MSRP, we see that there are some outliers in the dataset. The maximum value 2065902 and the minimum value 2000 different from each other very much. It might be extremely difficult to fit one model to that range of data. So, based on the investigation on percentile values, we decide to include 10000 < MSRP < 65000."
   ]
  },
  {
   "cell_type": "code",
   "execution_count": 32,
   "id": "d99a6d13",
   "metadata": {},
   "outputs": [],
   "source": [
    "dfnew = df.loc[(df['MSRP'] > 10000) & (df['MSRP'] < 65000)]"
   ]
  },
  {
   "cell_type": "code",
   "execution_count": 33,
   "id": "e7f7e2bc",
   "metadata": {},
   "outputs": [
    {
     "data": {
      "image/png": "[encoded data removed]",
      "text/plain": [
       "<Figure size 648x432 with 1 Axes>"
      ]
     },
     "metadata": {
      "needs_background": "light"
     },
     "output_type": "display_data"
    }
   ],
   "source": [
    "# MSRP distburion for new data\n",
    "fig, ax = plt.subplots(figsize=(9, 6))\n",
    "sns.distplot(dfnew['MSRP'], fit=norm, color = \"#911B09\")\n",
    "ax.set_xlabel(\"Manufacturer's Suggested Retail Price\", color='#6B6969', fontsize=13, weight = 'bold')\n",
    "ax.set_title(\"Manufacturer's Suggested Retail Price Distribution\",\n",
    "             fontsize=15, weight='bold', x= 0.5, y = 1.1)\n",
    "ax.set_facecolor('#F7F5F5')\n",
    "ax.spines['top'].set_visible(False)\n",
    "ax.spines['right'].set_visible(False)\n",
    "plt.show()"
   ]
  },
  {
   "cell_type": "markdown",
   "id": "6c352c55",
   "metadata": {},
   "source": [
    "<div class=\"alert alert-block alert-warning\">\n",
    "Now, the distrbution of MSRP is very close to normal."
   ]
  },
  {
   "cell_type": "code",
   "execution_count": 34,
   "id": "1b7cc4c1",
   "metadata": {},
   "outputs": [
    {
     "data": {
      "image/png": "[encoded data removed]",
      "text/plain": [
       "<Figure size 648x576 with 1 Axes>"
      ]
     },
     "metadata": {
      "needs_background": "light"
     },
     "output_type": "display_data"
    }
   ],
   "source": [
    "# Scatter plot to visualize relationship\n",
    "# between Engine Horse Power and MSRP.\n",
    "\n",
    "fig, ax = plt.subplots(figsize=(9, 8))\n",
    "plt.scatter(x=dfnew['Engine HP'], y=dfnew.MSRP, color = '#911B09')\n",
    "ax.set_xlabel(\"Engine Horse Power\", color='#6B6969', fontsize=13, weight = 'bold')\n",
    "ax.set_ylabel(\"MSRP\", color='#6B6969', fontsize=15, weight = 'bold')\n",
    "ax.set_title(\"Relationship between Engine Horse Power and MSRP\",\n",
    "             fontsize=15, weight='bold', x= 0.5, y = 1.1)\n",
    "ax.set_facecolor('#F7F5F5')\n",
    "ax.spines['top'].set_visible(False)\n",
    "ax.spines['right'].set_visible(False)\n",
    "plt.show()"
   ]
  },
  {
   "cell_type": "markdown",
   "id": "43423534",
   "metadata": {},
   "source": [
    "<div class=\"alert alert-block alert-warning\">\n",
    "Looks like Engine horsepower has a strong positive linear relationship with selling price of the car. There are some observations with engine horsepower greater than 700 taht do not follow the trend. These observations could be influential points but we care more about how much they influence selling price of the car. We will investigate on this further in our regression analysis section. Based on the seriousness of the influence, we can decide if we should keep or drop the observations."
   ]
  },
  {
   "cell_type": "code",
   "execution_count": 35,
   "id": "15b3aaee",
   "metadata": {},
   "outputs": [
    {
     "data": {
      "image/png": "[encoded data removed]",
      "text/plain": [
       "<Figure size 648x576 with 1 Axes>"
      ]
     },
     "metadata": {
      "needs_background": "light"
     },
     "output_type": "display_data"
    }
   ],
   "source": [
    "# Scatter plot to visualize relationship\n",
    "# between Highway MPG and MSRP.\n",
    "\n",
    "fig, ax = plt.subplots(figsize=(9, 8))\n",
    "plt.scatter(x=dfnew['highway MPG'], y=dfnew.MSRP, color = '#911B09')\n",
    "ax.set_xlabel(\"Highway MPG\", color='#6B6969', fontsize=13, weight = 'bold')\n",
    "ax.set_ylabel(\"MSRP\", color='#6B6969', fontsize=15, weight = 'bold')\n",
    "ax.set_title(\"Relationship between Highway MPG and MSRP\",\n",
    "             fontsize=15, weight='bold')\n",
    "ax.spines['top'].set_visible(False)\n",
    "ax.spines['right'].set_visible(False)\n",
    "ax.set_facecolor('#F7F5F5')\n",
    "plt.show()"
   ]
  },
  {
   "cell_type": "markdown",
   "id": "cf2669c7",
   "metadata": {},
   "source": [
    "<div class=\"alert alert-block alert-warning\">\n",
    "Surprisingly, there's not much of a clear relationship between highway miles per gallon and the selling price of the car. It looks like the highway MPG lies withing the same range for all MSRP values "
   ]
  },
  {
   "cell_type": "code",
   "execution_count": 36,
   "id": "ced6f269",
   "metadata": {},
   "outputs": [
    {
     "data": {
      "image/png": "[encoded data removed]",
      "text/plain": [
       "<Figure size 648x576 with 1 Axes>"
      ]
     },
     "metadata": {
      "needs_background": "light"
     },
     "output_type": "display_data"
    }
   ],
   "source": [
    "# Box plot to visualize relationship\n",
    "# between Market Category and MSRP.\n",
    "\n",
    "f, ax = plt.subplots(figsize=(9, 8))\n",
    "fig = sns.boxplot(x='Market Category', y=\"MSRP\", data=dfnew, palette=\"Reds\")\n",
    "ax.set_xlabel(\"Market Category\", color='#6B6969', fontsize=13, weight = 'bold')\n",
    "ax.set_ylabel(\"MSRP\", color='#6B6969', fontsize=13, weight = 'bold')\n",
    "\n",
    "ax.set_title(\"Variation of MSRP with Market Category\", fontsize=15, weight='bold')\n",
    "ax.spines['top'].set_visible(False)\n",
    "ax.spines['right'].set_visible(False)\n",
    "ax.set_facecolor('#F7F5F5')\n",
    "plt.show()"
   ]
  },
  {
   "cell_type": "markdown",
   "id": "8e85f51a",
   "metadata": {},
   "source": [
    "<div class=\"alert alert-block alert-warning\">\n",
    "This is very much in line with what we had expected. Luxury and exotic cars have higher selling price."
   ]
  },
  {
   "cell_type": "code",
   "execution_count": 38,
   "id": "6f5ef44f",
   "metadata": {},
   "outputs": [
    {
     "data": {
      "image/png": "[encoded data removed]",
      "text/plain": [
       "<Figure size 720x576 with 1 Axes>"
      ]
     },
     "metadata": {
      "needs_background": "light"
     },
     "output_type": "display_data"
    }
   ],
   "source": [
    "# Box plot to visualize relationship\n",
    "# between Vehicle Size and MSRP.\n",
    "\n",
    "f, ax = plt.subplots(figsize=(10, 8))\n",
    "fig = sns.boxplot(x='Vehicle Size', y=\"MSRP\", data=dfnew, palette='Reds')\n",
    "ax.set_xlabel(\"Vehicle Size\",  color='#6B6969', fontsize=13, weight = 'bold')\n",
    "ax.set_ylabel(\"MSRP\",  color='#6B6969', fontsize=13, weight = 'bold')\n",
    "ax.set_title(\"Variation of MSRP with Vehicle Size\", fontsize=15, weight='bold')\n",
    "ax.set_facecolor('#F7F5F5')\n",
    "ax.spines['top'].set_visible(False)\n",
    "ax.spines['right'].set_visible(False)\n",
    "plt.show()"
   ]
  },
  {
   "cell_type": "markdown",
   "id": "4d665cb1",
   "metadata": {},
   "source": [
    "<div class=\"alert alert-block alert-warning\">\n",
    "As expected, we see that as vehicle size increases, the selling price also increases."
   ]
  },
  {
   "cell_type": "code",
   "execution_count": 40,
   "id": "fdfdedd1",
   "metadata": {},
   "outputs": [
    {
     "data": {
      "image/png": "[encoded data removed]",
      "text/plain": [
       "<Figure size 720x576 with 1 Axes>"
      ]
     },
     "metadata": {
      "needs_background": "light"
     },
     "output_type": "display_data"
    }
   ],
   "source": [
    "# Box plot to visualize relationship\n",
    "# between Number of Cylinders and MSRP.\n",
    "\n",
    "f, ax = plt.subplots(figsize=(10, 8))\n",
    "fig = sns.boxplot(x='Engine Cylinders', y=\"MSRP\", data=dfnew, palette='Reds')\n",
    "ax.set_xlabel(\"Number of Cylinders in Engine\", color='#6B6969', fontsize=13, weight = 'bold')\n",
    "ax.set_ylabel(\"MSRP\",  color='#6B6969', fontsize=13, weight = 'bold')\n",
    "ax.set_title(\"Variation of MSRP with Number of Cylinders in Engine\", fontsize=15, weight='bold')\n",
    "ax.set_facecolor('#F7F5F5')\n",
    "ax.spines['top'].set_visible(False)\n",
    "ax.spines['right'].set_visible(False)\n",
    "plt.show()"
   ]
  },
  {
   "cell_type": "markdown",
   "id": "22e7fb55",
   "metadata": {},
   "source": [
    "<div class=\"alert alert-block alert-warning\">\n",
    "As expected, we see that as the number of cylinders increases, the selling price also increases, except for vehicles with less than 3 cylinders."
   ]
  },
  {
   "cell_type": "code",
   "execution_count": 41,
   "id": "9d36e9b8",
   "metadata": {},
   "outputs": [
    {
     "data": {
      "image/png": "[encoded data removed]",
      "text/plain": [
       "<Figure size 720x576 with 1 Axes>"
      ]
     },
     "metadata": {
      "needs_background": "light"
     },
     "output_type": "display_data"
    }
   ],
   "source": [
    "# Box plot to visualize relationship\n",
    "# between Year and MSRP.\n",
    "\n",
    "f, ax = plt.subplots(figsize=(10, 8))\n",
    "fig = sns.boxplot(x='Year', y=\"MSRP\", data=dfnew, palette='Reds')\n",
    "ax.set_xlabel(\"Number of years since the model was launched\", color='#6B6969', fontsize=13, weight = 'bold')\n",
    "ax.set_ylabel(\"MSRP\", color='#6B6969', fontsize=13, weight = 'bold')\n",
    "ax.set_title(\"Variation of MSRP with Number of Years since the car was launched\", fontsize=15, weight='bold')\n",
    "ax.set_facecolor('#F7F5F5')\n",
    "ax.spines['top'].set_visible(False)\n",
    "ax.spines['right'].set_visible(False)\n",
    "plt.show()"
   ]
  },
  {
   "cell_type": "markdown",
   "id": "7500f862",
   "metadata": {},
   "source": [
    "<div class=\"alert alert-block alert-warning\">\n",
    "Surprisingly, there's not much of a clear relationship between 'Year' and the selling price of the car."
   ]
  },
  {
   "cell_type": "code",
   "execution_count": 43,
   "id": "6f78bb01",
   "metadata": {},
   "outputs": [
    {
     "data": {
      "image/png": "[encoded data removed]",
      "text/plain": [
       "<Figure size 864x720 with 2 Axes>"
      ]
     },
     "metadata": {
      "needs_background": "light"
     },
     "output_type": "display_data"
    }
   ],
   "source": [
    "fig = plt.figure(figsize=(12,10))\n",
    "corrmat = df.corr()\n",
    "hm = sns.heatmap(corrmat, cbar=True, annot=True, square=True, fmt='.2f',\n",
    "                 annot_kws={'size': 10})\n",
    "plt.show()"
   ]
  },
  {
   "cell_type": "markdown",
   "id": "885d90e7",
   "metadata": {},
   "source": [
    "<div class=\"alert alert-block alert-warning\">\n",
    "As we had observed above, 'Engine HP' has a good correlation with Sale Price. In addition, we see that 'Highway MPG' is storngly correlated to 'City MPG'. These columns will provide same kind of information and induce multicollinearity. Hence, it would be better to drop one of these columns.  "
   ]
  },
  {
   "cell_type": "code",
   "execution_count": 44,
   "id": "4a23b3b9",
   "metadata": {},
   "outputs": [],
   "source": [
    "dfnew = dfnew.drop(columns=['city mpg']).copy()"
   ]
  },
  {
   "cell_type": "code",
   "execution_count": 45,
   "id": "29e779bf",
   "metadata": {},
   "outputs": [
    {
     "data": {
      "text/html": [
       "<div>\n",
       "<style scoped>\n",
       "    .dataframe tbody tr th:only-of-type {\n",
       "        vertical-align: middle;\n",
       "    }\n",
       "\n",
       "    .dataframe tbody tr th {\n",
       "        vertical-align: top;\n",
       "    }\n",
       "\n",
       "    .dataframe thead th {\n",
       "        text-align: right;\n",
       "    }\n",
       "</style>\n",
       "<table border=\"1\" class=\"dataframe\">\n",
       "  <thead>\n",
       "    <tr style=\"text-align: right;\">\n",
       "      <th></th>\n",
       "      <th>Make</th>\n",
       "      <th>Year</th>\n",
       "      <th>Engine_Fuel_Type</th>\n",
       "      <th>Engine_HP</th>\n",
       "      <th>Engine_Cylinders</th>\n",
       "      <th>Transmission_Type</th>\n",
       "      <th>Driven_Wheels</th>\n",
       "      <th>Number_of_Doors</th>\n",
       "      <th>Market_Category</th>\n",
       "      <th>Vehicle_Size</th>\n",
       "      <th>Vehicle_Style</th>\n",
       "      <th>highway_MPG</th>\n",
       "      <th>Popularity</th>\n",
       "      <th>MSRP</th>\n",
       "    </tr>\n",
       "  </thead>\n",
       "  <tbody>\n",
       "    <tr>\n",
       "      <th>0</th>\n",
       "      <td>BMW</td>\n",
       "      <td>10</td>\n",
       "      <td>premium</td>\n",
       "      <td>335.0</td>\n",
       "      <td>6.0</td>\n",
       "      <td>MANUAL</td>\n",
       "      <td>rear wheel drive</td>\n",
       "      <td>2.0</td>\n",
       "      <td>Luxury</td>\n",
       "      <td>Compact</td>\n",
       "      <td>coupe</td>\n",
       "      <td>26</td>\n",
       "      <td>3916</td>\n",
       "      <td>46135</td>\n",
       "    </tr>\n",
       "    <tr>\n",
       "      <th>1</th>\n",
       "      <td>BMW</td>\n",
       "      <td>10</td>\n",
       "      <td>premium</td>\n",
       "      <td>300.0</td>\n",
       "      <td>6.0</td>\n",
       "      <td>MANUAL</td>\n",
       "      <td>rear wheel drive</td>\n",
       "      <td>2.0</td>\n",
       "      <td>Luxury</td>\n",
       "      <td>Compact</td>\n",
       "      <td>convertible</td>\n",
       "      <td>28</td>\n",
       "      <td>3916</td>\n",
       "      <td>40650</td>\n",
       "    </tr>\n",
       "    <tr>\n",
       "      <th>2</th>\n",
       "      <td>BMW</td>\n",
       "      <td>10</td>\n",
       "      <td>premium</td>\n",
       "      <td>300.0</td>\n",
       "      <td>6.0</td>\n",
       "      <td>MANUAL</td>\n",
       "      <td>rear wheel drive</td>\n",
       "      <td>2.0</td>\n",
       "      <td>Luxury</td>\n",
       "      <td>Compact</td>\n",
       "      <td>coupe</td>\n",
       "      <td>28</td>\n",
       "      <td>3916</td>\n",
       "      <td>36350</td>\n",
       "    </tr>\n",
       "    <tr>\n",
       "      <th>3</th>\n",
       "      <td>BMW</td>\n",
       "      <td>10</td>\n",
       "      <td>premium</td>\n",
       "      <td>230.0</td>\n",
       "      <td>6.0</td>\n",
       "      <td>MANUAL</td>\n",
       "      <td>rear wheel drive</td>\n",
       "      <td>2.0</td>\n",
       "      <td>Luxury</td>\n",
       "      <td>Compact</td>\n",
       "      <td>coupe</td>\n",
       "      <td>28</td>\n",
       "      <td>3916</td>\n",
       "      <td>29450</td>\n",
       "    </tr>\n",
       "    <tr>\n",
       "      <th>4</th>\n",
       "      <td>BMW</td>\n",
       "      <td>10</td>\n",
       "      <td>premium</td>\n",
       "      <td>230.0</td>\n",
       "      <td>6.0</td>\n",
       "      <td>MANUAL</td>\n",
       "      <td>rear wheel drive</td>\n",
       "      <td>2.0</td>\n",
       "      <td>Luxury</td>\n",
       "      <td>Compact</td>\n",
       "      <td>convertible</td>\n",
       "      <td>28</td>\n",
       "      <td>3916</td>\n",
       "      <td>34500</td>\n",
       "    </tr>\n",
       "  </tbody>\n",
       "</table>\n",
       "</div>"
      ],
      "text/plain": [
       "  Make  Year Engine_Fuel_Type  Engine_HP  Engine_Cylinders Transmission_Type  \\\n",
       "0  BMW    10          premium      335.0               6.0            MANUAL   \n",
       "1  BMW    10          premium      300.0               6.0            MANUAL   \n",
       "2  BMW    10          premium      300.0               6.0            MANUAL   \n",
       "3  BMW    10          premium      230.0               6.0            MANUAL   \n",
       "4  BMW    10          premium      230.0               6.0            MANUAL   \n",
       "\n",
       "      Driven_Wheels  Number_of_Doors Market_Category Vehicle_Size  \\\n",
       "0  rear wheel drive              2.0          Luxury      Compact   \n",
       "1  rear wheel drive              2.0          Luxury      Compact   \n",
       "2  rear wheel drive              2.0          Luxury      Compact   \n",
       "3  rear wheel drive              2.0          Luxury      Compact   \n",
       "4  rear wheel drive              2.0          Luxury      Compact   \n",
       "\n",
       "  Vehicle_Style  highway_MPG  Popularity   MSRP  \n",
       "0         coupe           26        3916  46135  \n",
       "1   convertible           28        3916  40650  \n",
       "2         coupe           28        3916  36350  \n",
       "3         coupe           28        3916  29450  \n",
       "4   convertible           28        3916  34500  "
      ]
     },
     "execution_count": 45,
     "metadata": {},
     "output_type": "execute_result"
    }
   ],
   "source": [
    "df = dfnew.rename(columns={\"Engine Fuel Type\": \"Engine_Fuel_Type\",\n",
    "                        \"Engine HP\":\"Engine_HP\",\n",
    "                        \"Engine Cylinders\":\"Engine_Cylinders\",\n",
    "                       \"Transmission Type\":\"Transmission_Type\",\n",
    "                        \"Number of Doors\":\"Number_of_Doors\",\n",
    "                        \"Market Category\":\"Market_Category\",\n",
    "                        \"Vehicle Size\":\"Vehicle_Size\",\n",
    "                        \"Vehicle Style\":\"Vehicle_Style\",\n",
    "                        \"highway MPG\":\"highway_MPG\"})\n",
    "df.head(5)"
   ]
  },
  {
   "cell_type": "markdown",
   "id": "4da3fc02",
   "metadata": {},
   "source": [
    "### Before fitting the model\n",
    "pick all predictors of interest and check Multicollinearity"
   ]
  },
  {
   "cell_type": "code",
   "execution_count": 46,
   "id": "56233532",
   "metadata": {},
   "outputs": [
    {
     "name": "stdout",
     "output_type": "stream",
     "text": [
      "    VIF Factor                            features\n",
      "0     0.000000                           Intercept\n",
      "1          inf                  Make[T.Alfa Romeo]\n",
      "2          inf                        Make[T.Audi]\n",
      "3          inf                         Make[T.BMW]\n",
      "4          inf                       Make[T.Buick]\n",
      "5          inf                    Make[T.Cadillac]\n",
      "6          inf                   Make[T.Chevrolet]\n",
      "7          inf                    Make[T.Chrysler]\n",
      "8          inf                       Make[T.Dodge]\n",
      "9          inf                        Make[T.FIAT]\n",
      "10         inf                        Make[T.Ford]\n",
      "11         inf                         Make[T.GMC]\n",
      "12         inf                     Make[T.Genesis]\n",
      "13         inf                      Make[T.HUMMER]\n",
      "14         inf                       Make[T.Honda]\n",
      "15         inf                     Make[T.Hyundai]\n",
      "16         inf                    Make[T.Infiniti]\n",
      "17         inf                         Make[T.Kia]\n",
      "18         inf                  Make[T.Land Rover]\n",
      "19         inf                       Make[T.Lexus]\n",
      "20         inf                     Make[T.Lincoln]\n",
      "21         inf                       Make[T.Lotus]\n",
      "22         inf                       Make[T.Mazda]\n",
      "23         inf               Make[T.Mercedes-Benz]\n",
      "24         inf                  Make[T.Mitsubishi]\n",
      "25         inf                      Make[T.Nissan]\n",
      "26         inf                  Make[T.Oldsmobile]\n",
      "27         inf                    Make[T.Plymouth]\n",
      "28         inf                     Make[T.Pontiac]\n",
      "29         inf                     Make[T.Porsche]\n",
      "30         inf                        Make[T.Saab]\n",
      "31         inf                       Make[T.Scion]\n",
      "32         inf                      Make[T.Subaru]\n",
      "33         inf                      Make[T.Suzuki]\n",
      "34         inf                      Make[T.Toyota]\n",
      "35         inf                  Make[T.Volkswagen]\n",
      "36         inf                       Make[T.Volvo]\n",
      "37         inf        Engine_Fuel_Type[T.electric]\n",
      "38    8.825252       Engine_Fuel_Type[T.flex-fuel]\n",
      "39    1.027010     Engine_Fuel_Type[T.natural gas]\n",
      "40   17.008612         Engine_Fuel_Type[T.premium]\n",
      "41   20.904953         Engine_Fuel_Type[T.regular]\n",
      "42         inf          C(Engine_Cylinders)[T.3.0]\n",
      "43         inf          C(Engine_Cylinders)[T.4.0]\n",
      "44         inf          C(Engine_Cylinders)[T.5.0]\n",
      "45         inf          C(Engine_Cylinders)[T.6.0]\n",
      "46         inf          C(Engine_Cylinders)[T.8.0]\n",
      "47    6.410759      Transmission_Type[T.AUTOMATIC]\n",
      "48    7.583567   Transmission_Type[T.DIRECT_DRIVE]\n",
      "49    5.558711         Transmission_Type[T.MANUAL]\n",
      "50    2.458175   Driven_Wheels[T.four wheel drive]\n",
      "51    3.053086  Driven_Wheels[T.front wheel drive]\n",
      "52    2.816783   Driven_Wheels[T.rear wheel drive]\n",
      "53    3.391998           C(Number_of_Doors)[T.3.0]\n",
      "54    3.894313           C(Number_of_Doors)[T.4.0]\n",
      "55         inf           Market_Category[T.Luxury]\n",
      "56         inf            Market_Category[T.Other]\n",
      "57         inf          Market_Category[T.Unknown]\n",
      "58    2.910528               Vehicle_Size[T.Large]\n",
      "59    2.272000             Vehicle_Size[T.Midsize]\n",
      "60    1.200873      Vehicle_Style[T.cargo minivan]\n",
      "61    1.760809          Vehicle_Style[T.cargo van]\n",
      "62    2.652556        Vehicle_Style[T.convertible]\n",
      "63    1.069590    Vehicle_Style[T.convertible suv]\n",
      "64    3.296732              Vehicle_Style[T.coupe]\n",
      "65    3.526133          Vehicle_Style[T.hatchback]\n",
      "66    1.843928  Vehicle_Style[T.passenger minivan]\n",
      "67    2.616802      Vehicle_Style[T.passenger van]\n",
      "68    5.338039              Vehicle_Style[T.sedan]\n",
      "69    3.757258                Vehicle_Style[T.suv]\n",
      "70    2.099436              Vehicle_Style[T.wagon]\n",
      "71    2.492149                                Year\n",
      "72    6.518978                           Engine_HP\n",
      "73    3.485187                         highway_MPG\n",
      "74         inf                          Popularity\n"
     ]
    }
   ],
   "source": [
    "# VIF\n",
    "\n",
    "# Categorical - Engine Cylinders, Number of Doors\n",
    "y, X = dmatrices('MSRP~Make+Year+Engine_Fuel_Type+Engine_HP+C(Engine_Cylinders)+Transmission_Type+Driven_Wheels+C(Number_of_Doors)+Market_Category+Vehicle_Size+Vehicle_Style+highway_MPG+Popularity', data=df, return_type='dataframe')\n",
    "\n",
    "vif = pd.DataFrame()\n",
    "vif[\"VIF Factor\"] = [variance_inflation_factor(X.values, i) for i in range(X.shape[1])]\n",
    "vif[\"features\"] = X.columns\n",
    "pd.set_option('display.max_rows', None) \n",
    "print(vif)"
   ]
  },
  {
   "cell_type": "markdown",
   "id": "870c21ec",
   "metadata": {},
   "source": [
    "<div class=\"alert alert-block alert-warning\">\n",
    "We identify 'Engine_Fuel_Type','Engine_Cylinders', 'Market_Category', 'Make' and 'Popularity' as varaibles that is causing critical the multicolinearity problem. Since they have high VIF >10, we can consider delete them. "
   ]
  },
  {
   "cell_type": "code",
   "execution_count": 47,
   "id": "3e4fdba1",
   "metadata": {},
   "outputs": [
    {
     "name": "stdout",
     "output_type": "stream",
     "text": [
      "    VIF Factor                            features\n",
      "0   153.246883                           Intercept\n",
      "1     4.782514      Transmission_Type[T.AUTOMATIC]\n",
      "2     1.339534   Transmission_Type[T.DIRECT_DRIVE]\n",
      "3     4.503630         Transmission_Type[T.MANUAL]\n",
      "4     2.086016   Driven_Wheels[T.four wheel drive]\n",
      "5     2.300171  Driven_Wheels[T.front wheel drive]\n",
      "6     2.372026   Driven_Wheels[T.rear wheel drive]\n",
      "7     3.209597           C(Number_of_Doors)[T.3.0]\n",
      "8     3.554267           C(Number_of_Doors)[T.4.0]\n",
      "9     2.391537               Vehicle_Size[T.Large]\n",
      "10    2.043379             Vehicle_Size[T.Midsize]\n",
      "11    1.148740      Vehicle_Style[T.cargo minivan]\n",
      "12    1.639499          Vehicle_Style[T.cargo van]\n",
      "13    2.317652        Vehicle_Style[T.convertible]\n",
      "14    1.048705    Vehicle_Style[T.convertible suv]\n",
      "15    2.842711              Vehicle_Style[T.coupe]\n",
      "16    2.804397          Vehicle_Style[T.hatchback]\n",
      "17    1.660354  Vehicle_Style[T.passenger minivan]\n",
      "18    2.378229      Vehicle_Style[T.passenger van]\n",
      "19    4.178796              Vehicle_Style[T.sedan]\n",
      "20    3.205767                Vehicle_Style[T.suv]\n",
      "21    1.815927              Vehicle_Style[T.wagon]\n",
      "22    1.589658                                Year\n",
      "23    2.852782                           Engine_HP\n",
      "24    3.027376                         highway_MPG\n"
     ]
    }
   ],
   "source": [
    "y, X_new = dmatrices('MSRP~Year+Engine_HP+Transmission_Type+Driven_Wheels+C(Number_of_Doors)+Vehicle_Size+Vehicle_Style+highway_MPG', data=df, return_type='dataframe')\n",
    "vif = pd.DataFrame()\n",
    "vif[\"VIF Factor\"] = [variance_inflation_factor(X_new.values, i) for i in range(X_new.shape[1])]\n",
    "vif[\"features\"] = X_new.columns\n",
    "print(vif)"
   ]
  },
  {
   "cell_type": "markdown",
   "id": "b845241d",
   "metadata": {},
   "source": [
    "### Fit the initial model 1"
   ]
  },
  {
   "cell_type": "code",
   "execution_count": 48,
   "id": "fe57f596",
   "metadata": {},
   "outputs": [
    {
     "data": {
      "text/html": [
       "<table class=\"simpletable\">\n",
       "<caption>OLS Regression Results</caption>\n",
       "<tr>\n",
       "  <th>Dep. Variable:</th>          <td>MSRP</td>       <th>  R-squared:         </th> <td>   0.714</td> \n",
       "</tr>\n",
       "<tr>\n",
       "  <th>Model:</th>                   <td>OLS</td>       <th>  Adj. R-squared:    </th> <td>   0.713</td> \n",
       "</tr>\n",
       "<tr>\n",
       "  <th>Method:</th>             <td>Least Squares</td>  <th>  F-statistic:       </th> <td>   933.5</td> \n",
       "</tr>\n",
       "<tr>\n",
       "  <th>Date:</th>             <td>Fri, 15 Oct 2021</td> <th>  Prob (F-statistic):</th>  <td>  0.00</td>  \n",
       "</tr>\n",
       "<tr>\n",
       "  <th>Time:</th>                 <td>17:35:23</td>     <th>  Log-Likelihood:    </th> <td> -91139.</td> \n",
       "</tr>\n",
       "<tr>\n",
       "  <th>No. Observations:</th>      <td>  8992</td>      <th>  AIC:               </th> <td>1.823e+05</td>\n",
       "</tr>\n",
       "<tr>\n",
       "  <th>Df Residuals:</th>          <td>  8967</td>      <th>  BIC:               </th> <td>1.825e+05</td>\n",
       "</tr>\n",
       "<tr>\n",
       "  <th>Df Model:</th>              <td>    24</td>      <th>                     </th>     <td> </td>    \n",
       "</tr>\n",
       "<tr>\n",
       "  <th>Covariance Type:</th>      <td>nonrobust</td>    <th>                     </th>     <td> </td>    \n",
       "</tr>\n",
       "</table>\n",
       "<table class=\"simpletable\">\n",
       "<tr>\n",
       "                   <td></td>                     <th>coef</th>     <th>std err</th>      <th>t</th>      <th>P>|t|</th>  <th>[0.025</th>    <th>0.975]</th>  \n",
       "</tr>\n",
       "<tr>\n",
       "  <th>Intercept</th>                          <td> 5416.4171</td> <td>  797.906</td> <td>    6.788</td> <td> 0.000</td> <td> 3852.339</td> <td> 6980.495</td>\n",
       "</tr>\n",
       "<tr>\n",
       "  <th>Transmission_Type[T.AUTOMATIC]</th>     <td>-2284.0080</td> <td>  333.385</td> <td>   -6.851</td> <td> 0.000</td> <td>-2937.519</td> <td>-1630.497</td>\n",
       "</tr>\n",
       "<tr>\n",
       "  <th>Transmission_Type[T.DIRECT_DRIVE]</th>  <td>-2394.5324</td> <td> 1828.007</td> <td>   -1.310</td> <td> 0.190</td> <td>-5977.844</td> <td> 1188.779</td>\n",
       "</tr>\n",
       "<tr>\n",
       "  <th>Transmission_Type[T.MANUAL]</th>        <td>-5156.0752</td> <td>  350.930</td> <td>  -14.693</td> <td> 0.000</td> <td>-5843.979</td> <td>-4468.172</td>\n",
       "</tr>\n",
       "<tr>\n",
       "  <th>Driven_Wheels[T.four wheel drive]</th>  <td> -640.6020</td> <td>  295.202</td> <td>   -2.170</td> <td> 0.030</td> <td>-1219.265</td> <td>  -61.939</td>\n",
       "</tr>\n",
       "<tr>\n",
       "  <th>Driven_Wheels[T.front wheel drive]</th> <td>-5638.8430</td> <td>  196.540</td> <td>  -28.691</td> <td> 0.000</td> <td>-6024.106</td> <td>-5253.580</td>\n",
       "</tr>\n",
       "<tr>\n",
       "  <th>Driven_Wheels[T.rear wheel drive]</th>  <td>-2482.6421</td> <td>  235.457</td> <td>  -10.544</td> <td> 0.000</td> <td>-2944.191</td> <td>-2021.093</td>\n",
       "</tr>\n",
       "<tr>\n",
       "  <th>C(Number_of_Doors)[T.3.0]</th>          <td> -152.6572</td> <td>  713.552</td> <td>   -0.214</td> <td> 0.831</td> <td>-1551.383</td> <td> 1246.068</td>\n",
       "</tr>\n",
       "<tr>\n",
       "  <th>C(Number_of_Doors)[T.4.0]</th>          <td>  290.4232</td> <td>  295.193</td> <td>    0.984</td> <td> 0.325</td> <td> -288.223</td> <td>  869.069</td>\n",
       "</tr>\n",
       "<tr>\n",
       "  <th>Vehicle_Size[T.Large]</th>              <td> 2121.6594</td> <td>  245.262</td> <td>    8.651</td> <td> 0.000</td> <td> 1640.889</td> <td> 2602.430</td>\n",
       "</tr>\n",
       "<tr>\n",
       "  <th>Vehicle_Size[T.Midsize]</th>            <td>  520.4524</td> <td>  187.941</td> <td>    2.769</td> <td> 0.006</td> <td>  152.045</td> <td>  888.860</td>\n",
       "</tr>\n",
       "<tr>\n",
       "  <th>Vehicle_Style[T.cargo minivan]</th>     <td> 4503.1680</td> <td>  828.231</td> <td>    5.437</td> <td> 0.000</td> <td> 2879.647</td> <td> 6126.689</td>\n",
       "</tr>\n",
       "<tr>\n",
       "  <th>Vehicle_Style[T.cargo van]</th>         <td> 1533.1406</td> <td> 1121.058</td> <td>    1.368</td> <td> 0.171</td> <td> -664.390</td> <td> 3730.671</td>\n",
       "</tr>\n",
       "<tr>\n",
       "  <th>Vehicle_Style[T.convertible]</th>       <td> 1.257e+04</td> <td>  444.468</td> <td>   28.275</td> <td> 0.000</td> <td> 1.17e+04</td> <td> 1.34e+04</td>\n",
       "</tr>\n",
       "<tr>\n",
       "  <th>Vehicle_Style[T.convertible suv]</th>   <td> 9132.5786</td> <td> 1476.759</td> <td>    6.184</td> <td> 0.000</td> <td> 6237.793</td> <td>  1.2e+04</td>\n",
       "</tr>\n",
       "<tr>\n",
       "  <th>Vehicle_Style[T.coupe]</th>             <td> 4898.7643</td> <td>  430.523</td> <td>   11.379</td> <td> 0.000</td> <td> 4054.840</td> <td> 5742.688</td>\n",
       "</tr>\n",
       "<tr>\n",
       "  <th>Vehicle_Style[T.hatchback]</th>         <td> 5052.5683</td> <td>  347.312</td> <td>   14.548</td> <td> 0.000</td> <td> 4371.758</td> <td> 5733.379</td>\n",
       "</tr>\n",
       "<tr>\n",
       "  <th>Vehicle_Style[T.passenger minivan]</th> <td> 6447.1662</td> <td>  434.813</td> <td>   14.827</td> <td> 0.000</td> <td> 5594.834</td> <td> 7299.498</td>\n",
       "</tr>\n",
       "<tr>\n",
       "  <th>Vehicle_Style[T.passenger van]</th>     <td> 4632.4882</td> <td>  934.101</td> <td>    4.959</td> <td> 0.000</td> <td> 2801.436</td> <td> 6463.540</td>\n",
       "</tr>\n",
       "<tr>\n",
       "  <th>Vehicle_Style[T.sedan]</th>             <td> 6354.7036</td> <td>  301.521</td> <td>   21.076</td> <td> 0.000</td> <td> 5763.654</td> <td> 6945.753</td>\n",
       "</tr>\n",
       "<tr>\n",
       "  <th>Vehicle_Style[T.suv]</th>               <td> 6801.3982</td> <td>  268.083</td> <td>   25.370</td> <td> 0.000</td> <td> 6275.894</td> <td> 7326.902</td>\n",
       "</tr>\n",
       "<tr>\n",
       "  <th>Vehicle_Style[T.wagon]</th>             <td> 6588.9032</td> <td>  383.019</td> <td>   17.203</td> <td> 0.000</td> <td> 5838.097</td> <td> 7339.709</td>\n",
       "</tr>\n",
       "<tr>\n",
       "  <th>Year</th>                               <td> -225.3057</td> <td>   17.879</td> <td>  -12.601</td> <td> 0.000</td> <td> -260.353</td> <td> -190.258</td>\n",
       "</tr>\n",
       "<tr>\n",
       "  <th>Engine_HP</th>                          <td>  103.0281</td> <td>    1.418</td> <td>   72.651</td> <td> 0.000</td> <td>  100.248</td> <td>  105.808</td>\n",
       "</tr>\n",
       "<tr>\n",
       "  <th>highway_MPG</th>                        <td>  151.3486</td> <td>   14.604</td> <td>   10.363</td> <td> 0.000</td> <td>  122.721</td> <td>  179.976</td>\n",
       "</tr>\n",
       "</table>\n",
       "<table class=\"simpletable\">\n",
       "<tr>\n",
       "  <th>Omnibus:</th>       <td>487.483</td> <th>  Durbin-Watson:     </th> <td>   0.746</td> \n",
       "</tr>\n",
       "<tr>\n",
       "  <th>Prob(Omnibus):</th> <td> 0.000</td>  <th>  Jarque-Bera (JB):  </th> <td> 819.567</td> \n",
       "</tr>\n",
       "<tr>\n",
       "  <th>Skew:</th>          <td> 0.439</td>  <th>  Prob(JB):          </th> <td>1.08e-178</td>\n",
       "</tr>\n",
       "<tr>\n",
       "  <th>Kurtosis:</th>      <td> 4.190</td>  <th>  Cond. No.          </th> <td>7.16e+03</td> \n",
       "</tr>\n",
       "</table><br/><br/>Notes:<br/>[1] Standard Errors assume that the covariance matrix of the errors is correctly specified.<br/>[2] The condition number is large, 7.16e+03. This might indicate that there are<br/>strong multicollinearity or other numerical problems."
      ],
      "text/plain": [
       "<class 'statsmodels.iolib.summary.Summary'>\n",
       "\"\"\"\n",
       "                            OLS Regression Results                            \n",
       "==============================================================================\n",
       "Dep. Variable:                   MSRP   R-squared:                       0.714\n",
       "Model:                            OLS   Adj. R-squared:                  0.713\n",
       "Method:                 Least Squares   F-statistic:                     933.5\n",
       "Date:                Fri, 15 Oct 2021   Prob (F-statistic):               0.00\n",
       "Time:                        17:35:23   Log-Likelihood:                -91139.\n",
       "No. Observations:                8992   AIC:                         1.823e+05\n",
       "Df Residuals:                    8967   BIC:                         1.825e+05\n",
       "Df Model:                          24                                         \n",
       "Covariance Type:            nonrobust                                         \n",
       "======================================================================================================\n",
       "                                         coef    std err          t      P>|t|      [0.025      0.975]\n",
       "------------------------------------------------------------------------------------------------------\n",
       "Intercept                           5416.4171    797.906      6.788      0.000    3852.339    6980.495\n",
       "Transmission_Type[T.AUTOMATIC]     -2284.0080    333.385     -6.851      0.000   -2937.519   -1630.497\n",
       "Transmission_Type[T.DIRECT_DRIVE]  -2394.5324   1828.007     -1.310      0.190   -5977.844    1188.779\n",
       "Transmission_Type[T.MANUAL]        -5156.0752    350.930    -14.693      0.000   -5843.979   -4468.172\n",
       "Driven_Wheels[T.four wheel drive]   -640.6020    295.202     -2.170      0.030   -1219.265     -61.939\n",
       "Driven_Wheels[T.front wheel drive] -5638.8430    196.540    -28.691      0.000   -6024.106   -5253.580\n",
       "Driven_Wheels[T.rear wheel drive]  -2482.6421    235.457    -10.544      0.000   -2944.191   -2021.093\n",
       "C(Number_of_Doors)[T.3.0]           -152.6572    713.552     -0.214      0.831   -1551.383    1246.068\n",
       "C(Number_of_Doors)[T.4.0]            290.4232    295.193      0.984      0.325    -288.223     869.069\n",
       "Vehicle_Size[T.Large]               2121.6594    245.262      8.651      0.000    1640.889    2602.430\n",
       "Vehicle_Size[T.Midsize]              520.4524    187.941      2.769      0.006     152.045     888.860\n",
       "Vehicle_Style[T.cargo minivan]      4503.1680    828.231      5.437      0.000    2879.647    6126.689\n",
       "Vehicle_Style[T.cargo van]          1533.1406   1121.058      1.368      0.171    -664.390    3730.671\n",
       "Vehicle_Style[T.convertible]        1.257e+04    444.468     28.275      0.000    1.17e+04    1.34e+04\n",
       "Vehicle_Style[T.convertible suv]    9132.5786   1476.759      6.184      0.000    6237.793     1.2e+04\n",
       "Vehicle_Style[T.coupe]              4898.7643    430.523     11.379      0.000    4054.840    5742.688\n",
       "Vehicle_Style[T.hatchback]          5052.5683    347.312     14.548      0.000    4371.758    5733.379\n",
       "Vehicle_Style[T.passenger minivan]  6447.1662    434.813     14.827      0.000    5594.834    7299.498\n",
       "Vehicle_Style[T.passenger van]      4632.4882    934.101      4.959      0.000    2801.436    6463.540\n",
       "Vehicle_Style[T.sedan]              6354.7036    301.521     21.076      0.000    5763.654    6945.753\n",
       "Vehicle_Style[T.suv]                6801.3982    268.083     25.370      0.000    6275.894    7326.902\n",
       "Vehicle_Style[T.wagon]              6588.9032    383.019     17.203      0.000    5838.097    7339.709\n",
       "Year                                -225.3057     17.879    -12.601      0.000    -260.353    -190.258\n",
       "Engine_HP                            103.0281      1.418     72.651      0.000     100.248     105.808\n",
       "highway_MPG                          151.3486     14.604     10.363      0.000     122.721     179.976\n",
       "==============================================================================\n",
       "Omnibus:                      487.483   Durbin-Watson:                   0.746\n",
       "Prob(Omnibus):                  0.000   Jarque-Bera (JB):              819.567\n",
       "Skew:                           0.439   Prob(JB):                    1.08e-178\n",
       "Kurtosis:                       4.190   Cond. No.                     7.16e+03\n",
       "==============================================================================\n",
       "\n",
       "Notes:\n",
       "[1] Standard Errors assume that the covariance matrix of the errors is correctly specified.\n",
       "[2] The condition number is large, 7.16e+03. This might indicate that there are\n",
       "strong multicollinearity or other numerical problems.\n",
       "\"\"\""
      ]
     },
     "execution_count": 48,
     "metadata": {},
     "output_type": "execute_result"
    }
   ],
   "source": [
    "\n",
    "model =smf.ols('MSRP~Year+Engine_HP+Transmission_Type+Driven_Wheels+C(Number_of_Doors)+Vehicle_Size+Vehicle_Style+highway_MPG', data=df).fit()\n",
    "model.summary()"
   ]
  },
  {
   "cell_type": "markdown",
   "id": "e1e2778a",
   "metadata": {},
   "source": [
    "### Check influential points"
   ]
  },
  {
   "cell_type": "code",
   "execution_count": 49,
   "id": "9973d72f",
   "metadata": {},
   "outputs": [
    {
     "name": "stdout",
     "output_type": "stream",
     "text": [
      "Index:\n",
      " Int64Index([   66,    69,    72,    73,    78,    79,    83,   474,   476,\n",
      "              477,\n",
      "            ...\n",
      "            11844, 11855, 11860, 11886, 11889, 11890, 11892, 11895, 11907,\n",
      "            11910],\n",
      "           dtype='int64', length=525)\n"
     ]
    }
   ],
   "source": [
    "# Inluential points\n",
    "infl = model.get_influence()\n",
    "\n",
    "#threshold externally studentized residuals\n",
    "\n",
    "n=8992\n",
    "p=25\n",
    "seuil_stud = scipy.stats.t.ppf(0.975,df=n-p-1)\n",
    "#detection - absolute value > threshold\n",
    "reg_studs=infl.resid_studentized_external\n",
    "atyp_stud = np.abs(reg_studs) > seuil_stud\n",
    "print('Index:\\n',df.index[atyp_stud])"
   ]
  },
  {
   "cell_type": "code",
   "execution_count": 50,
   "id": "dea8127b",
   "metadata": {},
   "outputs": [
    {
     "name": "stdout",
     "output_type": "stream",
     "text": [
      "Index:\n",
      " Int64Index([  474,   476,   477,   505,   507,   509,   511,   512,   513,\n",
      "              517,\n",
      "            ...\n",
      "            11838, 11842, 11844, 11886, 11889, 11890, 11892, 11895, 11907,\n",
      "            11910],\n",
      "           dtype='int64', length=365)\n"
     ]
    }
   ],
   "source": [
    "#Cook's distance\n",
    "inflsum=infl.summary_frame()\n",
    "reg_cook=inflsum.cooks_d\n",
    "\n",
    "atyp_cook = np.abs(reg_cook) >= 4/n\n",
    "print('Index:\\n',df.index[atyp_cook])"
   ]
  },
  {
   "cell_type": "code",
   "execution_count": 51,
   "id": "47b4a816",
   "metadata": {},
   "outputs": [
    {
     "data": {
      "text/plain": [
       "Int64Index([   66,    69,    72,    73,    78,    79,    83,   474,   476,\n",
       "              477,\n",
       "            ...\n",
       "            11844, 11855, 11860, 11886, 11889, 11890, 11892, 11895, 11907,\n",
       "            11910],\n",
       "           dtype='int64', length=608)"
      ]
     },
     "execution_count": 51,
     "metadata": {},
     "output_type": "execute_result"
    }
   ],
   "source": [
    "c = df.index[atyp_stud]\n",
    "d = df.index[atyp_cook]\n",
    "cd = d.union(c)\n",
    "cd"
   ]
  },
  {
   "cell_type": "markdown",
   "id": "4fa8aa21",
   "metadata": {},
   "source": [
    "<div class=\"alert alert-block alert-warning\">\n",
    "Above are the index of observation numbers that were identified as influential points by threshold externally studentized residuals or Cook's distance. We don't simply delete the influential points. Rather, we report them and present analysis with and without the influential points. "
   ]
  },
  {
   "cell_type": "markdown",
   "id": "2bbd0616",
   "metadata": {},
   "source": [
    "### Check heteroscedasticity"
   ]
  },
  {
   "cell_type": "code",
   "execution_count": 52,
   "id": "f4630571",
   "metadata": {},
   "outputs": [
    {
     "data": {
      "text/plain": [
       "Text(0.5, 1.0, 'Fitted Values vs. Residuals')"
      ]
     },
     "execution_count": 52,
     "metadata": {},
     "output_type": "execute_result"
    },
    {
     "data": {
      "image/png": "[encoded data removed]",
      "text/plain": [
       "<Figure size 432x288 with 1 Axes>"
      ]
     },
     "metadata": {
      "needs_background": "light"
     },
     "output_type": "display_data"
    }
   ],
   "source": [
    "#Fitted Values vs. Residuals Plot\n",
    "p = model.fittedvalues\n",
    "res = model.resid\n",
    "plt.scatter(p,res)\n",
    "plt.xlabel(\"Fitted Values\")\n",
    "plt.ylabel(\"Residual\")\n",
    "plt.title(\"Fitted Values vs. Residuals\")"
   ]
  },
  {
   "cell_type": "markdown",
   "id": "8e7d986e",
   "metadata": {},
   "source": [
    "<div class=\"alert alert-block alert-warning\">\n",
    "There's obvious change in bandwidth with hat_y, suggesting heteroscedasticity problem."
   ]
  },
  {
   "cell_type": "code",
   "execution_count": 53,
   "id": "702cbf7c",
   "metadata": {},
   "outputs": [
    {
     "name": "stdout",
     "output_type": "stream",
     "text": [
      "{'BP Statistic': 1691.702170783777, 'BP-Test p-value': 0.0}\n"
     ]
    }
   ],
   "source": [
    "#Breusch-Pagan for Heteroskedasticity\n",
    "bp_test = het_breuschpagan(model.resid, model.model.exog)\n",
    "labels = ['BP Statistic', 'BP-Test p-value']\n",
    "print(dict(zip(labels, bp_test)))\n",
    "# Heteroskedasticity exists"
   ]
  },
  {
   "cell_type": "markdown",
   "id": "6aa30ca6",
   "metadata": {},
   "source": [
    "<div class=\"alert alert-block alert-warning\">\n",
    "Through Breusch-Pagen test, we found that the p-value < 0.05. Also, through the residual plot, we observe change of bandwidth with x intervals. We would use natual-log transformation on y as the residul plot doesn't change proportionally with hat_y."
   ]
  },
  {
   "cell_type": "markdown",
   "id": "fbd32f41",
   "metadata": {},
   "source": [
    "### Check normality"
   ]
  },
  {
   "cell_type": "code",
   "execution_count": 54,
   "id": "4bf03fef",
   "metadata": {},
   "outputs": [
    {
     "data": {
      "image/png": "[encoded data removed]",
      "text/plain": [
       "<Figure size 432x288 with 1 Axes>"
      ]
     },
     "execution_count": 54,
     "metadata": {},
     "output_type": "execute_result"
    },
    {
     "data": {
      "image/png": "[encoded data removed]",
      "text/plain": [
       "<Figure size 432x288 with 1 Axes>"
      ]
     },
     "metadata": {
      "needs_background": "light"
     },
     "output_type": "display_data"
    }
   ],
   "source": [
    "# qq plot\n",
    "sm.qqplot(model.resid)"
   ]
  },
  {
   "cell_type": "markdown",
   "id": "4c1bd291",
   "metadata": {},
   "source": [
    "<div class=\"alert alert-block alert-warning\">\n",
    " The QQ plots are approx. diagonal, showing that the distribution of the data might not exist normality problem. It's normally distributed. However, there are weird points on two sides of the QQ plot. We could use natural-log transformation on y."
   ]
  },
  {
   "cell_type": "code",
   "execution_count": 55,
   "id": "abe1758a",
   "metadata": {},
   "outputs": [
    {
     "data": {
      "text/plain": [
       "(array([1.000e+00, 7.000e+00, 6.100e+01, 5.880e+02, 3.183e+03, 3.571e+03,\n",
       "        1.209e+03, 2.920e+02, 7.400e+01, 6.000e+00]),\n",
       " array([-33982.40797804, -27478.72543405, -20975.04289006, -14471.36034607,\n",
       "         -7967.67780208,  -1463.99525808,   5039.68728591,  11543.3698299 ,\n",
       "         18047.05237389,  24550.73491788,  31054.41746187]),\n",
       " <BarContainer object of 10 artists>)"
      ]
     },
     "execution_count": 55,
     "metadata": {},
     "output_type": "execute_result"
    },
    {
     "data": {
      "image/png": "[encoded data removed]",
      "text/plain": [
       "<Figure size 432x288 with 1 Axes>"
      ]
     },
     "metadata": {
      "needs_background": "light"
     },
     "output_type": "display_data"
    }
   ],
   "source": [
    "#histogram of residual to observe the shape/skewness\n",
    "plt.hist(model.resid)"
   ]
  },
  {
   "cell_type": "markdown",
   "id": "8f81ee23",
   "metadata": {},
   "source": [
    "<div class=\"alert alert-block alert-warning\">\n",
    "The skewness of residual is approx. 0, showing approx. symmtry."
   ]
  },
  {
   "cell_type": "code",
   "execution_count": 56,
   "id": "3c9049e3",
   "metadata": {},
   "outputs": [
    {
     "name": "stdout",
     "output_type": "stream",
     "text": [
      "{'JB Statistic': 819.5671048414231, 'JB-Test p-value': 0.0}\n"
     ]
    }
   ],
   "source": [
    "#Jarque-Bera test on the residuals\n",
    "jb_test = jarque_bera(model.resid)\n",
    "labels = ['JB Statistic', 'JB-Test p-value']\n",
    "print(dict(zip(labels, jb_test)))"
   ]
  },
  {
   "cell_type": "markdown",
   "id": "bb18fd66",
   "metadata": {},
   "source": [
    "<div class=\"alert alert-block alert-warning\">\n",
    " p-val < 0.05, reject H0. There's skewness (normality) problem for this dataset. We could use natural-log transformation on y. However, since Jarque-Bera is sensitive to outliers, outliers might cause the rejection."
   ]
  },
  {
   "cell_type": "markdown",
   "id": "723f954b",
   "metadata": {},
   "source": [
    "### Delete influential points, take natural log on y"
   ]
  },
  {
   "cell_type": "code",
   "execution_count": 57,
   "id": "e657f329",
   "metadata": {},
   "outputs": [],
   "source": [
    "df_new = df.drop(cd)\n",
    "df_new['log_MSRP']=np.log(df_new['MSRP']+1)"
   ]
  },
  {
   "cell_type": "markdown",
   "id": "f1d8dcad",
   "metadata": {},
   "source": [
    "### Fit the initial model 2"
   ]
  },
  {
   "cell_type": "code",
   "execution_count": 58,
   "id": "be02faed",
   "metadata": {},
   "outputs": [
    {
     "data": {
      "text/html": [
       "<table class=\"simpletable\">\n",
       "<caption>OLS Regression Results</caption>\n",
       "<tr>\n",
       "  <th>Dep. Variable:</th>        <td>log_MSRP</td>     <th>  R-squared:         </th> <td>   0.807</td>\n",
       "</tr>\n",
       "<tr>\n",
       "  <th>Model:</th>                   <td>OLS</td>       <th>  Adj. R-squared:    </th> <td>   0.807</td>\n",
       "</tr>\n",
       "<tr>\n",
       "  <th>Method:</th>             <td>Least Squares</td>  <th>  F-statistic:       </th> <td>   1460.</td>\n",
       "</tr>\n",
       "<tr>\n",
       "  <th>Date:</th>             <td>Fri, 15 Oct 2021</td> <th>  Prob (F-statistic):</th>  <td>  0.00</td> \n",
       "</tr>\n",
       "<tr>\n",
       "  <th>Time:</th>                 <td>17:37:57</td>     <th>  Log-Likelihood:    </th> <td>  4080.2</td>\n",
       "</tr>\n",
       "<tr>\n",
       "  <th>No. Observations:</th>      <td>  8384</td>      <th>  AIC:               </th> <td>  -8110.</td>\n",
       "</tr>\n",
       "<tr>\n",
       "  <th>Df Residuals:</th>          <td>  8359</td>      <th>  BIC:               </th> <td>  -7934.</td>\n",
       "</tr>\n",
       "<tr>\n",
       "  <th>Df Model:</th>              <td>    24</td>      <th>                     </th>     <td> </td>   \n",
       "</tr>\n",
       "<tr>\n",
       "  <th>Covariance Type:</th>      <td>nonrobust</td>    <th>                     </th>     <td> </td>   \n",
       "</tr>\n",
       "</table>\n",
       "<table class=\"simpletable\">\n",
       "<tr>\n",
       "                   <td></td>                     <th>coef</th>     <th>std err</th>      <th>t</th>      <th>P>|t|</th>  <th>[0.025</th>    <th>0.975]</th>  \n",
       "</tr>\n",
       "<tr>\n",
       "  <th>Intercept</th>                          <td>    9.4921</td> <td>    0.030</td> <td>  320.384</td> <td> 0.000</td> <td>    9.434</td> <td>    9.550</td>\n",
       "</tr>\n",
       "<tr>\n",
       "  <th>Transmission_Type[T.AUTOMATIC]</th>     <td>   -0.1039</td> <td>    0.008</td> <td>  -12.497</td> <td> 0.000</td> <td>   -0.120</td> <td>   -0.088</td>\n",
       "</tr>\n",
       "<tr>\n",
       "  <th>Transmission_Type[T.DIRECT_DRIVE]</th>  <td>   -0.1082</td> <td>    0.106</td> <td>   -1.023</td> <td> 0.306</td> <td>   -0.316</td> <td>    0.099</td>\n",
       "</tr>\n",
       "<tr>\n",
       "  <th>Transmission_Type[T.MANUAL]</th>        <td>   -0.2125</td> <td>    0.009</td> <td>  -24.308</td> <td> 0.000</td> <td>   -0.230</td> <td>   -0.195</td>\n",
       "</tr>\n",
       "<tr>\n",
       "  <th>Driven_Wheels[T.four wheel drive]</th>  <td>-1.447e-05</td> <td>    0.008</td> <td>   -0.002</td> <td> 0.999</td> <td>   -0.015</td> <td>    0.015</td>\n",
       "</tr>\n",
       "<tr>\n",
       "  <th>Driven_Wheels[T.front wheel drive]</th> <td>   -0.1502</td> <td>    0.005</td> <td>  -29.430</td> <td> 0.000</td> <td>   -0.160</td> <td>   -0.140</td>\n",
       "</tr>\n",
       "<tr>\n",
       "  <th>Driven_Wheels[T.rear wheel drive]</th>  <td>   -0.0698</td> <td>    0.006</td> <td>  -11.280</td> <td> 0.000</td> <td>   -0.082</td> <td>   -0.058</td>\n",
       "</tr>\n",
       "<tr>\n",
       "  <th>Vehicle_Size[T.Large]</th>              <td>    0.0640</td> <td>    0.006</td> <td>    9.867</td> <td> 0.000</td> <td>    0.051</td> <td>    0.077</td>\n",
       "</tr>\n",
       "<tr>\n",
       "  <th>Vehicle_Size[T.Midsize]</th>            <td>    0.0676</td> <td>    0.005</td> <td>   14.221</td> <td> 0.000</td> <td>    0.058</td> <td>    0.077</td>\n",
       "</tr>\n",
       "<tr>\n",
       "  <th>Vehicle_Style[T.cargo minivan]</th>     <td>    0.1100</td> <td>    0.020</td> <td>    5.369</td> <td> 0.000</td> <td>    0.070</td> <td>    0.150</td>\n",
       "</tr>\n",
       "<tr>\n",
       "  <th>Vehicle_Style[T.cargo van]</th>         <td>    0.0682</td> <td>    0.023</td> <td>    2.943</td> <td> 0.003</td> <td>    0.023</td> <td>    0.114</td>\n",
       "</tr>\n",
       "<tr>\n",
       "  <th>Vehicle_Style[T.convertible]</th>       <td>    0.3291</td> <td>    0.012</td> <td>   28.572</td> <td> 0.000</td> <td>    0.307</td> <td>    0.352</td>\n",
       "</tr>\n",
       "<tr>\n",
       "  <th>Vehicle_Style[T.convertible suv]</th>   <td>    0.1789</td> <td>    0.086</td> <td>    2.070</td> <td> 0.038</td> <td>    0.009</td> <td>    0.348</td>\n",
       "</tr>\n",
       "<tr>\n",
       "  <th>Vehicle_Style[T.coupe]</th>             <td>    0.0706</td> <td>    0.011</td> <td>    6.173</td> <td> 0.000</td> <td>    0.048</td> <td>    0.093</td>\n",
       "</tr>\n",
       "<tr>\n",
       "  <th>Vehicle_Style[T.hatchback]</th>         <td>    0.0730</td> <td>    0.009</td> <td>    7.949</td> <td> 0.000</td> <td>    0.055</td> <td>    0.091</td>\n",
       "</tr>\n",
       "<tr>\n",
       "  <th>Vehicle_Style[T.passenger minivan]</th> <td>    0.1827</td> <td>    0.011</td> <td>   16.876</td> <td> 0.000</td> <td>    0.161</td> <td>    0.204</td>\n",
       "</tr>\n",
       "<tr>\n",
       "  <th>Vehicle_Style[T.passenger van]</th>     <td>    0.1546</td> <td>    0.017</td> <td>    9.190</td> <td> 0.000</td> <td>    0.122</td> <td>    0.188</td>\n",
       "</tr>\n",
       "<tr>\n",
       "  <th>Vehicle_Style[T.sedan]</th>             <td>    0.0846</td> <td>    0.008</td> <td>   10.213</td> <td> 0.000</td> <td>    0.068</td> <td>    0.101</td>\n",
       "</tr>\n",
       "<tr>\n",
       "  <th>Vehicle_Style[T.suv]</th>               <td>    0.1398</td> <td>    0.007</td> <td>   20.226</td> <td> 0.000</td> <td>    0.126</td> <td>    0.153</td>\n",
       "</tr>\n",
       "<tr>\n",
       "  <th>Vehicle_Style[T.wagon]</th>             <td>    0.1391</td> <td>    0.010</td> <td>   14.070</td> <td> 0.000</td> <td>    0.120</td> <td>    0.158</td>\n",
       "</tr>\n",
       "<tr>\n",
       "  <th>Year</th>                               <td>   -0.0054</td> <td>    0.001</td> <td>   -9.411</td> <td> 0.000</td> <td>   -0.006</td> <td>   -0.004</td>\n",
       "</tr>\n",
       "<tr>\n",
       "  <th>Engine_HP</th>                          <td>    0.0037</td> <td> 5.14e-05</td> <td>   71.118</td> <td> 0.000</td> <td>    0.004</td> <td>    0.004</td>\n",
       "</tr>\n",
       "<tr>\n",
       "  <th>Engine_Cylinders</th>                   <td>   -0.0184</td> <td>    0.003</td> <td>   -6.787</td> <td> 0.000</td> <td>   -0.024</td> <td>   -0.013</td>\n",
       "</tr>\n",
       "<tr>\n",
       "  <th>Number_of_Doors</th>                    <td>   -0.0014</td> <td>    0.004</td> <td>   -0.393</td> <td> 0.694</td> <td>   -0.009</td> <td>    0.006</td>\n",
       "</tr>\n",
       "<tr>\n",
       "  <th>highway_MPG</th>                        <td>    0.0064</td> <td>    0.001</td> <td>   10.587</td> <td> 0.000</td> <td>    0.005</td> <td>    0.008</td>\n",
       "</tr>\n",
       "</table>\n",
       "<table class=\"simpletable\">\n",
       "<tr>\n",
       "  <th>Omnibus:</th>       <td>52.952</td> <th>  Durbin-Watson:     </th> <td>   0.925</td>\n",
       "</tr>\n",
       "<tr>\n",
       "  <th>Prob(Omnibus):</th> <td> 0.000</td> <th>  Jarque-Bera (JB):  </th> <td>  41.174</td>\n",
       "</tr>\n",
       "<tr>\n",
       "  <th>Skew:</th>          <td> 0.085</td> <th>  Prob(JB):          </th> <td>1.15e-09</td>\n",
       "</tr>\n",
       "<tr>\n",
       "  <th>Kurtosis:</th>      <td> 2.702</td> <th>  Cond. No.          </th> <td>1.59e+04</td>\n",
       "</tr>\n",
       "</table><br/><br/>Notes:<br/>[1] Standard Errors assume that the covariance matrix of the errors is correctly specified.<br/>[2] The condition number is large, 1.59e+04. This might indicate that there are<br/>strong multicollinearity or other numerical problems."
      ],
      "text/plain": [
       "<class 'statsmodels.iolib.summary.Summary'>\n",
       "\"\"\"\n",
       "                            OLS Regression Results                            \n",
       "==============================================================================\n",
       "Dep. Variable:               log_MSRP   R-squared:                       0.807\n",
       "Model:                            OLS   Adj. R-squared:                  0.807\n",
       "Method:                 Least Squares   F-statistic:                     1460.\n",
       "Date:                Fri, 15 Oct 2021   Prob (F-statistic):               0.00\n",
       "Time:                        17:37:57   Log-Likelihood:                 4080.2\n",
       "No. Observations:                8384   AIC:                            -8110.\n",
       "Df Residuals:                    8359   BIC:                            -7934.\n",
       "Df Model:                          24                                         \n",
       "Covariance Type:            nonrobust                                         \n",
       "======================================================================================================\n",
       "                                         coef    std err          t      P>|t|      [0.025      0.975]\n",
       "------------------------------------------------------------------------------------------------------\n",
       "Intercept                              9.4921      0.030    320.384      0.000       9.434       9.550\n",
       "Transmission_Type[T.AUTOMATIC]        -0.1039      0.008    -12.497      0.000      -0.120      -0.088\n",
       "Transmission_Type[T.DIRECT_DRIVE]     -0.1082      0.106     -1.023      0.306      -0.316       0.099\n",
       "Transmission_Type[T.MANUAL]           -0.2125      0.009    -24.308      0.000      -0.230      -0.195\n",
       "Driven_Wheels[T.four wheel drive]  -1.447e-05      0.008     -0.002      0.999      -0.015       0.015\n",
       "Driven_Wheels[T.front wheel drive]    -0.1502      0.005    -29.430      0.000      -0.160      -0.140\n",
       "Driven_Wheels[T.rear wheel drive]     -0.0698      0.006    -11.280      0.000      -0.082      -0.058\n",
       "Vehicle_Size[T.Large]                  0.0640      0.006      9.867      0.000       0.051       0.077\n",
       "Vehicle_Size[T.Midsize]                0.0676      0.005     14.221      0.000       0.058       0.077\n",
       "Vehicle_Style[T.cargo minivan]         0.1100      0.020      5.369      0.000       0.070       0.150\n",
       "Vehicle_Style[T.cargo van]             0.0682      0.023      2.943      0.003       0.023       0.114\n",
       "Vehicle_Style[T.convertible]           0.3291      0.012     28.572      0.000       0.307       0.352\n",
       "Vehicle_Style[T.convertible suv]       0.1789      0.086      2.070      0.038       0.009       0.348\n",
       "Vehicle_Style[T.coupe]                 0.0706      0.011      6.173      0.000       0.048       0.093\n",
       "Vehicle_Style[T.hatchback]             0.0730      0.009      7.949      0.000       0.055       0.091\n",
       "Vehicle_Style[T.passenger minivan]     0.1827      0.011     16.876      0.000       0.161       0.204\n",
       "Vehicle_Style[T.passenger van]         0.1546      0.017      9.190      0.000       0.122       0.188\n",
       "Vehicle_Style[T.sedan]                 0.0846      0.008     10.213      0.000       0.068       0.101\n",
       "Vehicle_Style[T.suv]                   0.1398      0.007     20.226      0.000       0.126       0.153\n",
       "Vehicle_Style[T.wagon]                 0.1391      0.010     14.070      0.000       0.120       0.158\n",
       "Year                                  -0.0054      0.001     -9.411      0.000      -0.006      -0.004\n",
       "Engine_HP                              0.0037   5.14e-05     71.118      0.000       0.004       0.004\n",
       "Engine_Cylinders                      -0.0184      0.003     -6.787      0.000      -0.024      -0.013\n",
       "Number_of_Doors                       -0.0014      0.004     -0.393      0.694      -0.009       0.006\n",
       "highway_MPG                            0.0064      0.001     10.587      0.000       0.005       0.008\n",
       "==============================================================================\n",
       "Omnibus:                       52.952   Durbin-Watson:                   0.925\n",
       "Prob(Omnibus):                  0.000   Jarque-Bera (JB):               41.174\n",
       "Skew:                           0.085   Prob(JB):                     1.15e-09\n",
       "Kurtosis:                       2.702   Cond. No.                     1.59e+04\n",
       "==============================================================================\n",
       "\n",
       "Notes:\n",
       "[1] Standard Errors assume that the covariance matrix of the errors is correctly specified.\n",
       "[2] The condition number is large, 1.59e+04. This might indicate that there are\n",
       "strong multicollinearity or other numerical problems.\n",
       "\"\"\""
      ]
     },
     "execution_count": 58,
     "metadata": {},
     "output_type": "execute_result"
    }
   ],
   "source": [
    "model_1 =smf.ols('log_MSRP~Year+Engine_HP+Engine_Cylinders+Transmission_Type+Driven_Wheels+Number_of_Doors+Vehicle_Size+Vehicle_Style+highway_MPG', data=df_new).fit()\n",
    "model_1.summary()"
   ]
  },
  {
   "cell_type": "markdown",
   "id": "b38f6be8",
   "metadata": {},
   "source": [
    "### Check influential points"
   ]
  },
  {
   "cell_type": "code",
   "execution_count": 59,
   "id": "060b9c4a",
   "metadata": {},
   "outputs": [
    {
     "name": "stdout",
     "output_type": "stream",
     "text": [
      "Index:\n",
      " Int64Index([  144,   146,   153,   159,   161,   164,   439,   518,   521,\n",
      "              522,\n",
      "            ...\n",
      "            11698, 11706, 11713, 11744, 11748, 11752, 11753, 11759, 11764,\n",
      "            11782],\n",
      "           dtype='int64', length=372)\n"
     ]
    }
   ],
   "source": [
    "# Inluential points\n",
    "infl = model_1.get_influence()\n",
    "\n",
    "#threshold externally studentized residuals\n",
    "import scipy\n",
    "n=8384\n",
    "p=25\n",
    "seuil_stud = scipy.stats.t.ppf(0.975,df=n-p-1)\n",
    "#detection - absolute value > threshold\n",
    "reg_studs=infl.resid_studentized_external\n",
    "atyp_stud = np.abs(reg_studs) > seuil_stud\n",
    "print('Index:\\n',df_new.index[atyp_stud])"
   ]
  },
  {
   "cell_type": "code",
   "execution_count": 60,
   "id": "bae8a018",
   "metadata": {},
   "outputs": [
    {
     "name": "stdout",
     "output_type": "stream",
     "text": [
      "Index:\n",
      " Int64Index([  135,   140,   146,   153,   161,   164,   439,   518,   521,\n",
      "              526,\n",
      "            ...\n",
      "            11427, 11428, 11429, 11435, 11440, 11446, 11638, 11894, 11897,\n",
      "            11901],\n",
      "           dtype='int64', length=283)\n"
     ]
    }
   ],
   "source": [
    "#Cook's distance\n",
    "inflsum=infl.summary_frame()\n",
    "reg_cook=inflsum.cooks_d\n",
    "\n",
    "atyp_cook = np.abs(reg_cook) >= 4/n\n",
    "print('Index:\\n',df_new.index[atyp_cook])"
   ]
  },
  {
   "cell_type": "code",
   "execution_count": 61,
   "id": "eb663114",
   "metadata": {},
   "outputs": [
    {
     "data": {
      "text/plain": [
       "Int64Index([  135,   140,   144,   146,   153,   159,   161,   164,   439,\n",
       "              518,\n",
       "            ...\n",
       "            11744, 11748, 11752, 11753, 11759, 11764, 11782, 11894, 11897,\n",
       "            11901],\n",
       "           dtype='int64', length=466)"
      ]
     },
     "execution_count": 61,
     "metadata": {},
     "output_type": "execute_result"
    }
   ],
   "source": [
    "c = df_new.index[atyp_stud]\n",
    "d = df_new.index[atyp_cook]\n",
    "cd = d.union(c)\n",
    "cd"
   ]
  },
  {
   "cell_type": "markdown",
   "id": "e3ca31e6",
   "metadata": {},
   "source": [
    "<div class=\"alert alert-block alert-warning\">\n",
    "Above are the index of observation numbers that were identified as influential points by threshold externally studentized residuals or Cook's distance. We don't simply delete the influential points. Rather, we report them and present analysis with and without the influential points. "
   ]
  },
  {
   "cell_type": "markdown",
   "id": "776ab299",
   "metadata": {},
   "source": [
    "### Check heteroscedasticity"
   ]
  },
  {
   "cell_type": "code",
   "execution_count": 62,
   "id": "6a994758",
   "metadata": {},
   "outputs": [
    {
     "data": {
      "text/plain": [
       "Text(0.5, 1.0, 'Fitted Values vs. Residuals after log transformation on y')"
      ]
     },
     "execution_count": 62,
     "metadata": {},
     "output_type": "execute_result"
    },
    {
     "data": {
      "image/png": "[encoded data removed]",
      "text/plain": [
       "<Figure size 432x288 with 1 Axes>"
      ]
     },
     "metadata": {
      "needs_background": "light"
     },
     "output_type": "display_data"
    }
   ],
   "source": [
    "p1 = model_1.fittedvalues\n",
    "res1 = model_1.resid\n",
    "plt.scatter(p1,res1)\n",
    "plt.xlabel(\"Fitted Values\")\n",
    "plt.ylabel(\"Residual\")\n",
    "plt.title(\"Fitted Values vs. Residuals after log transformation on y\")"
   ]
  },
  {
   "cell_type": "markdown",
   "id": "32532692",
   "metadata": {},
   "source": [
    "<div class=\"alert alert-block alert-warning\">\n",
    "The heteroscedasticity improved, with similar bandwidth."
   ]
  },
  {
   "cell_type": "code",
   "execution_count": 63,
   "id": "fb3c6529",
   "metadata": {},
   "outputs": [
    {
     "name": "stdout",
     "output_type": "stream",
     "text": [
      "{'LM Statistic': 312.7388830067124, 'LM-Test p-value': 4.524654900047722e-52}\n"
     ]
    }
   ],
   "source": [
    "#Breusch-Pagan for heteroscedasticity\n",
    "bp_test = het_breuschpagan(model_1.resid, model_1.model.exog)\n",
    "labels = ['LM Statistic', 'LM-Test p-value']\n",
    "print(dict(zip(labels, bp_test)))\n",
    "# Heteroskedasticity exists"
   ]
  },
  {
   "cell_type": "markdown",
   "id": "39bf5022",
   "metadata": {},
   "source": [
    "<div class=\"alert alert-block alert-warning\">\n",
    "Through Breusch-Pagen test, we found that the p-value < 0.05. There might still be heteroscedasticity problem. However, since it is very sensitive to outliers, the exsitence of outliers might cause the rejection."
   ]
  },
  {
   "cell_type": "markdown",
   "id": "97947dc8",
   "metadata": {},
   "source": [
    "### Check normality"
   ]
  },
  {
   "cell_type": "code",
   "execution_count": 64,
   "id": "bee18329",
   "metadata": {},
   "outputs": [
    {
     "data": {
      "image/png": "[encoded data removed]",
      "text/plain": [
       "<Figure size 432x288 with 1 Axes>"
      ]
     },
     "execution_count": 64,
     "metadata": {},
     "output_type": "execute_result"
    },
    {
     "data": {
      "image/png": "[encoded data removed]",
      "text/plain": [
       "<Figure size 432x288 with 1 Axes>"
      ]
     },
     "metadata": {
      "needs_background": "light"
     },
     "output_type": "display_data"
    }
   ],
   "source": [
    "# qq plot\n",
    "sm.qqplot(model_1.resid)"
   ]
  },
  {
   "cell_type": "markdown",
   "id": "d9351731",
   "metadata": {},
   "source": [
    "<div class=\"alert alert-block alert-warning\">\n",
    " The QQ plots are diagonal, showing that the distribution of the data might not exist normality problem. It's normally distributed."
   ]
  },
  {
   "cell_type": "code",
   "execution_count": 65,
   "id": "ea2b2915",
   "metadata": {},
   "outputs": [
    {
     "data": {
      "text/plain": [
       "(array([   8.,   55.,  407., 1189., 1985., 2107., 1527.,  802.,  264.,\n",
       "          40.]),\n",
       " array([-0.5322566 , -0.43155165, -0.33084671, -0.23014176, -0.12943682,\n",
       "        -0.02873187,  0.07197307,  0.17267802,  0.27338296,  0.37408791,\n",
       "         0.47479285]),\n",
       " <BarContainer object of 10 artists>)"
      ]
     },
     "execution_count": 65,
     "metadata": {},
     "output_type": "execute_result"
    },
    {
     "data": {
      "image/png": "[encoded data removed]",
      "text/plain": [
       "<Figure size 432x288 with 1 Axes>"
      ]
     },
     "metadata": {
      "needs_background": "light"
     },
     "output_type": "display_data"
    }
   ],
   "source": [
    "#histogram of residual to observe the shape/skewness\n",
    "plt.hist(model_1.resid)"
   ]
  },
  {
   "cell_type": "markdown",
   "id": "d31c4fa4",
   "metadata": {},
   "source": [
    "<div class=\"alert alert-block alert-warning\">\n",
    "    By looking at the histogram of residuals, we see that it is approx. symmetric, showing skewness approx. = 0. There's no voilation of Normality"
   ]
  },
  {
   "cell_type": "code",
   "execution_count": 66,
   "id": "a4b4d6c0",
   "metadata": {},
   "outputs": [
    {
     "name": "stdout",
     "output_type": "stream",
     "text": [
      "{'JB Statistic': 41.173983947293266, 'JB-Test p-value': 1.1459957427462086e-09}\n"
     ]
    }
   ],
   "source": [
    "#Jarque-Bera test on the residuals\n",
    "jb_test = jarque_bera(model_1.resid)\n",
    "labels = ['JB Statistic', 'JB-Test p-value']\n",
    "print(dict(zip(labels, jb_test)))"
   ]
  },
  {
   "cell_type": "markdown",
   "id": "27ce6811",
   "metadata": {},
   "source": [
    "<div class=\"alert alert-block alert-warning\">\n",
    " p-val < 0.05, reject H0. There's skewness (normality) problem for this dataset. However, since Jarque-Bera is sensitive to outliers, outliers might cause the rejection."
   ]
  },
  {
   "cell_type": "markdown",
   "id": "7357e7ab",
   "metadata": {},
   "source": [
    "### Model 1 : \n",
    "log_MSRP~Year+Engine_HP+Engine_Cylinders+Transmission_Type+Driven_Wheels+Number_of_Doors+Vehicle_Size+Vehicle_Style+highway_MPG"
   ]
  },
  {
   "cell_type": "code",
   "execution_count": 67,
   "id": "0a04bb43",
   "metadata": {},
   "outputs": [],
   "source": [
    "# Drop the influential points\n",
    "df_final = df_new.drop(cd)"
   ]
  },
  {
   "cell_type": "code",
   "execution_count": 68,
   "id": "a0d5e287",
   "metadata": {},
   "outputs": [
    {
     "data": {
      "text/html": [
       "<table class=\"simpletable\">\n",
       "<caption>OLS Regression Results</caption>\n",
       "<tr>\n",
       "  <th>Dep. Variable:</th>        <td>log_MSRP</td>     <th>  R-squared:         </th> <td>   0.845</td>\n",
       "</tr>\n",
       "<tr>\n",
       "  <th>Model:</th>                   <td>OLS</td>       <th>  Adj. R-squared:    </th> <td>   0.845</td>\n",
       "</tr>\n",
       "<tr>\n",
       "  <th>Method:</th>             <td>Least Squares</td>  <th>  F-statistic:       </th> <td>   1799.</td>\n",
       "</tr>\n",
       "<tr>\n",
       "  <th>Date:</th>             <td>Fri, 15 Oct 2021</td> <th>  Prob (F-statistic):</th>  <td>  0.00</td> \n",
       "</tr>\n",
       "<tr>\n",
       "  <th>Time:</th>                 <td>17:40:16</td>     <th>  Log-Likelihood:    </th> <td>  4851.8</td>\n",
       "</tr>\n",
       "<tr>\n",
       "  <th>No. Observations:</th>      <td>  7918</td>      <th>  AIC:               </th> <td>  -9654.</td>\n",
       "</tr>\n",
       "<tr>\n",
       "  <th>Df Residuals:</th>          <td>  7893</td>      <th>  BIC:               </th> <td>  -9479.</td>\n",
       "</tr>\n",
       "<tr>\n",
       "  <th>Df Model:</th>              <td>    24</td>      <th>                     </th>     <td> </td>   \n",
       "</tr>\n",
       "<tr>\n",
       "  <th>Covariance Type:</th>      <td>nonrobust</td>    <th>                     </th>     <td> </td>   \n",
       "</tr>\n",
       "</table>\n",
       "<table class=\"simpletable\">\n",
       "<tr>\n",
       "                   <td></td>                     <th>coef</th>     <th>std err</th>      <th>t</th>      <th>P>|t|</th>  <th>[0.025</th>    <th>0.975]</th>  \n",
       "</tr>\n",
       "<tr>\n",
       "  <th>Intercept</th>                          <td>    9.5224</td> <td>    0.027</td> <td>  347.632</td> <td> 0.000</td> <td>    9.469</td> <td>    9.576</td>\n",
       "</tr>\n",
       "<tr>\n",
       "  <th>Transmission_Type[T.AUTOMATIC]</th>     <td>   -0.1057</td> <td>    0.007</td> <td>  -14.116</td> <td> 0.000</td> <td>   -0.120</td> <td>   -0.091</td>\n",
       "</tr>\n",
       "<tr>\n",
       "  <th>Transmission_Type[T.DIRECT_DRIVE]</th>  <td>   -0.0948</td> <td>    0.093</td> <td>   -1.016</td> <td> 0.310</td> <td>   -0.278</td> <td>    0.088</td>\n",
       "</tr>\n",
       "<tr>\n",
       "  <th>Transmission_Type[T.MANUAL]</th>        <td>   -0.2117</td> <td>    0.008</td> <td>  -26.800</td> <td> 0.000</td> <td>   -0.227</td> <td>   -0.196</td>\n",
       "</tr>\n",
       "<tr>\n",
       "  <th>Driven_Wheels[T.four wheel drive]</th>  <td>   -0.0022</td> <td>    0.007</td> <td>   -0.321</td> <td> 0.748</td> <td>   -0.016</td> <td>    0.011</td>\n",
       "</tr>\n",
       "<tr>\n",
       "  <th>Driven_Wheels[T.front wheel drive]</th> <td>   -0.1452</td> <td>    0.005</td> <td>  -31.310</td> <td> 0.000</td> <td>   -0.154</td> <td>   -0.136</td>\n",
       "</tr>\n",
       "<tr>\n",
       "  <th>Driven_Wheels[T.rear wheel drive]</th>  <td>   -0.0708</td> <td>    0.006</td> <td>  -12.610</td> <td> 0.000</td> <td>   -0.082</td> <td>   -0.060</td>\n",
       "</tr>\n",
       "<tr>\n",
       "  <th>Vehicle_Size[T.Large]</th>              <td>    0.0565</td> <td>    0.006</td> <td>    9.604</td> <td> 0.000</td> <td>    0.045</td> <td>    0.068</td>\n",
       "</tr>\n",
       "<tr>\n",
       "  <th>Vehicle_Size[T.Midsize]</th>            <td>    0.0705</td> <td>    0.004</td> <td>   16.268</td> <td> 0.000</td> <td>    0.062</td> <td>    0.079</td>\n",
       "</tr>\n",
       "<tr>\n",
       "  <th>Vehicle_Style[T.cargo minivan]</th>     <td>    0.1197</td> <td>    0.019</td> <td>    6.144</td> <td> 0.000</td> <td>    0.082</td> <td>    0.158</td>\n",
       "</tr>\n",
       "<tr>\n",
       "  <th>Vehicle_Style[T.cargo van]</th>         <td>    0.0781</td> <td>    0.023</td> <td>    3.342</td> <td> 0.001</td> <td>    0.032</td> <td>    0.124</td>\n",
       "</tr>\n",
       "<tr>\n",
       "  <th>Vehicle_Style[T.convertible]</th>       <td>    0.3059</td> <td>    0.010</td> <td>   29.340</td> <td> 0.000</td> <td>    0.285</td> <td>    0.326</td>\n",
       "</tr>\n",
       "<tr>\n",
       "  <th>Vehicle_Style[T.convertible suv]</th>   <td>    0.1571</td> <td>    0.132</td> <td>    1.194</td> <td> 0.233</td> <td>   -0.101</td> <td>    0.415</td>\n",
       "</tr>\n",
       "<tr>\n",
       "  <th>Vehicle_Style[T.coupe]</th>             <td>    0.0640</td> <td>    0.010</td> <td>    6.131</td> <td> 0.000</td> <td>    0.044</td> <td>    0.084</td>\n",
       "</tr>\n",
       "<tr>\n",
       "  <th>Vehicle_Style[T.hatchback]</th>         <td>    0.0586</td> <td>    0.008</td> <td>    7.060</td> <td> 0.000</td> <td>    0.042</td> <td>    0.075</td>\n",
       "</tr>\n",
       "<tr>\n",
       "  <th>Vehicle_Style[T.passenger minivan]</th> <td>    0.1800</td> <td>    0.010</td> <td>   18.134</td> <td> 0.000</td> <td>    0.161</td> <td>    0.199</td>\n",
       "</tr>\n",
       "<tr>\n",
       "  <th>Vehicle_Style[T.passenger van]</th>     <td>    0.1451</td> <td>    0.015</td> <td>    9.709</td> <td> 0.000</td> <td>    0.116</td> <td>    0.174</td>\n",
       "</tr>\n",
       "<tr>\n",
       "  <th>Vehicle_Style[T.sedan]</th>             <td>    0.0660</td> <td>    0.008</td> <td>    8.747</td> <td> 0.000</td> <td>    0.051</td> <td>    0.081</td>\n",
       "</tr>\n",
       "<tr>\n",
       "  <th>Vehicle_Style[T.suv]</th>               <td>    0.1241</td> <td>    0.006</td> <td>   19.930</td> <td> 0.000</td> <td>    0.112</td> <td>    0.136</td>\n",
       "</tr>\n",
       "<tr>\n",
       "  <th>Vehicle_Style[T.wagon]</th>             <td>    0.1202</td> <td>    0.009</td> <td>   13.418</td> <td> 0.000</td> <td>    0.103</td> <td>    0.138</td>\n",
       "</tr>\n",
       "<tr>\n",
       "  <th>Year</th>                               <td>   -0.0052</td> <td>    0.001</td> <td>   -9.881</td> <td> 0.000</td> <td>   -0.006</td> <td>   -0.004</td>\n",
       "</tr>\n",
       "<tr>\n",
       "  <th>Engine_HP</th>                          <td>    0.0038</td> <td>  4.8e-05</td> <td>   79.602</td> <td> 0.000</td> <td>    0.004</td> <td>    0.004</td>\n",
       "</tr>\n",
       "<tr>\n",
       "  <th>Engine_Cylinders</th>                   <td>   -0.0251</td> <td>    0.003</td> <td>  -10.006</td> <td> 0.000</td> <td>   -0.030</td> <td>   -0.020</td>\n",
       "</tr>\n",
       "<tr>\n",
       "  <th>Number_of_Doors</th>                    <td>   -0.0027</td> <td>    0.003</td> <td>   -0.809</td> <td> 0.418</td> <td>   -0.009</td> <td>    0.004</td>\n",
       "</tr>\n",
       "<tr>\n",
       "  <th>highway_MPG</th>                        <td>    0.0057</td> <td>    0.001</td> <td>   10.028</td> <td> 0.000</td> <td>    0.005</td> <td>    0.007</td>\n",
       "</tr>\n",
       "</table>\n",
       "<table class=\"simpletable\">\n",
       "<tr>\n",
       "  <th>Omnibus:</th>       <td>372.295</td> <th>  Durbin-Watson:     </th> <td>   1.047</td>\n",
       "</tr>\n",
       "<tr>\n",
       "  <th>Prob(Omnibus):</th> <td> 0.000</td>  <th>  Jarque-Bera (JB):  </th> <td> 155.749</td>\n",
       "</tr>\n",
       "<tr>\n",
       "  <th>Skew:</th>          <td> 0.069</td>  <th>  Prob(JB):          </th> <td>1.51e-34</td>\n",
       "</tr>\n",
       "<tr>\n",
       "  <th>Kurtosis:</th>      <td> 2.327</td>  <th>  Cond. No.          </th> <td>2.17e+04</td>\n",
       "</tr>\n",
       "</table><br/><br/>Notes:<br/>[1] Standard Errors assume that the covariance matrix of the errors is correctly specified.<br/>[2] The condition number is large, 2.17e+04. This might indicate that there are<br/>strong multicollinearity or other numerical problems."
      ],
      "text/plain": [
       "<class 'statsmodels.iolib.summary.Summary'>\n",
       "\"\"\"\n",
       "                            OLS Regression Results                            \n",
       "==============================================================================\n",
       "Dep. Variable:               log_MSRP   R-squared:                       0.845\n",
       "Model:                            OLS   Adj. R-squared:                  0.845\n",
       "Method:                 Least Squares   F-statistic:                     1799.\n",
       "Date:                Fri, 15 Oct 2021   Prob (F-statistic):               0.00\n",
       "Time:                        17:40:16   Log-Likelihood:                 4851.8\n",
       "No. Observations:                7918   AIC:                            -9654.\n",
       "Df Residuals:                    7893   BIC:                            -9479.\n",
       "Df Model:                          24                                         \n",
       "Covariance Type:            nonrobust                                         \n",
       "======================================================================================================\n",
       "                                         coef    std err          t      P>|t|      [0.025      0.975]\n",
       "------------------------------------------------------------------------------------------------------\n",
       "Intercept                              9.5224      0.027    347.632      0.000       9.469       9.576\n",
       "Transmission_Type[T.AUTOMATIC]        -0.1057      0.007    -14.116      0.000      -0.120      -0.091\n",
       "Transmission_Type[T.DIRECT_DRIVE]     -0.0948      0.093     -1.016      0.310      -0.278       0.088\n",
       "Transmission_Type[T.MANUAL]           -0.2117      0.008    -26.800      0.000      -0.227      -0.196\n",
       "Driven_Wheels[T.four wheel drive]     -0.0022      0.007     -0.321      0.748      -0.016       0.011\n",
       "Driven_Wheels[T.front wheel drive]    -0.1452      0.005    -31.310      0.000      -0.154      -0.136\n",
       "Driven_Wheels[T.rear wheel drive]     -0.0708      0.006    -12.610      0.000      -0.082      -0.060\n",
       "Vehicle_Size[T.Large]                  0.0565      0.006      9.604      0.000       0.045       0.068\n",
       "Vehicle_Size[T.Midsize]                0.0705      0.004     16.268      0.000       0.062       0.079\n",
       "Vehicle_Style[T.cargo minivan]         0.1197      0.019      6.144      0.000       0.082       0.158\n",
       "Vehicle_Style[T.cargo van]             0.0781      0.023      3.342      0.001       0.032       0.124\n",
       "Vehicle_Style[T.convertible]           0.3059      0.010     29.340      0.000       0.285       0.326\n",
       "Vehicle_Style[T.convertible suv]       0.1571      0.132      1.194      0.233      -0.101       0.415\n",
       "Vehicle_Style[T.coupe]                 0.0640      0.010      6.131      0.000       0.044       0.084\n",
       "Vehicle_Style[T.hatchback]             0.0586      0.008      7.060      0.000       0.042       0.075\n",
       "Vehicle_Style[T.passenger minivan]     0.1800      0.010     18.134      0.000       0.161       0.199\n",
       "Vehicle_Style[T.passenger van]         0.1451      0.015      9.709      0.000       0.116       0.174\n",
       "Vehicle_Style[T.sedan]                 0.0660      0.008      8.747      0.000       0.051       0.081\n",
       "Vehicle_Style[T.suv]                   0.1241      0.006     19.930      0.000       0.112       0.136\n",
       "Vehicle_Style[T.wagon]                 0.1202      0.009     13.418      0.000       0.103       0.138\n",
       "Year                                  -0.0052      0.001     -9.881      0.000      -0.006      -0.004\n",
       "Engine_HP                              0.0038    4.8e-05     79.602      0.000       0.004       0.004\n",
       "Engine_Cylinders                      -0.0251      0.003    -10.006      0.000      -0.030      -0.020\n",
       "Number_of_Doors                       -0.0027      0.003     -0.809      0.418      -0.009       0.004\n",
       "highway_MPG                            0.0057      0.001     10.028      0.000       0.005       0.007\n",
       "==============================================================================\n",
       "Omnibus:                      372.295   Durbin-Watson:                   1.047\n",
       "Prob(Omnibus):                  0.000   Jarque-Bera (JB):              155.749\n",
       "Skew:                           0.069   Prob(JB):                     1.51e-34\n",
       "Kurtosis:                       2.327   Cond. No.                     2.17e+04\n",
       "==============================================================================\n",
       "\n",
       "Notes:\n",
       "[1] Standard Errors assume that the covariance matrix of the errors is correctly specified.\n",
       "[2] The condition number is large, 2.17e+04. This might indicate that there are\n",
       "strong multicollinearity or other numerical problems.\n",
       "\"\"\""
      ]
     },
     "execution_count": 68,
     "metadata": {},
     "output_type": "execute_result"
    }
   ],
   "source": [
    "model_1 =smf.ols('log_MSRP~Year+Engine_HP+Engine_Cylinders+Transmission_Type+Driven_Wheels+Number_of_Doors+Vehicle_Size+Vehicle_Style+highway_MPG', data=df_final).fit()\n",
    "model_1.summary()"
   ]
  },
  {
   "cell_type": "code",
   "execution_count": 69,
   "id": "557c4293",
   "metadata": {},
   "outputs": [
    {
     "data": {
      "text/plain": [
       "Text(0.5, 1.0, 'Fitted Values vs. Residuals after log transformation on y')"
      ]
     },
     "execution_count": 69,
     "metadata": {},
     "output_type": "execute_result"
    },
    {
     "data": {
      "image/png": "[encoded data removed]",
      "text/plain": [
       "<Figure size 432x288 with 1 Axes>"
      ]
     },
     "metadata": {
      "needs_background": "light"
     },
     "output_type": "display_data"
    }
   ],
   "source": [
    "p2 = model_1.fittedvalues\n",
    "res2 = model_1.resid\n",
    "plt.scatter(p2,res2)\n",
    "plt.xlabel(\"Fitted Values\")\n",
    "plt.ylabel(\"Residual\")\n",
    "plt.title(\"Fitted Values vs. Residuals after log transformation on y\")"
   ]
  },
  {
   "cell_type": "code",
   "execution_count": 70,
   "id": "67d21530",
   "metadata": {},
   "outputs": [
    {
     "name": "stdout",
     "output_type": "stream",
     "text": [
      "{'LM Statistic': 211.71226534715248, 'LM-Test p-value': 5.560556622175274e-32}\n"
     ]
    }
   ],
   "source": [
    "#Breusch-Pagan for heteroscedasticity\n",
    "bp_test = het_breuschpagan(model_1.resid, model_1.model.exog)\n",
    "labels = ['LM Statistic', 'LM-Test p-value']\n",
    "print(dict(zip(labels, bp_test)))\n",
    "# Heteroskedasticity exists"
   ]
  },
  {
   "cell_type": "markdown",
   "id": "4f185077",
   "metadata": {},
   "source": [
    "<div class=\"alert alert-block alert-warning\">\n",
    "Compared with initial model2, R2 is higher after dropping the  influential points. And the heteroscedasticity much improved, with very similar bandwidth. The p-value of BP test still smaller than 0.05. We think it's because the BP being too sensitive to the points on the bottom right. We can move forward to the model selection."
   ]
  },
  {
   "cell_type": "markdown",
   "id": "fe8d97f9",
   "metadata": {},
   "source": [
    "### Stepwise Model Selection (In R)"
   ]
  },
  {
   "attachments": {
    "image-2.png": {
     "image/png": "[encoded data removed]"
    }
   },
   "cell_type": "markdown",
   "id": "fda3600b",
   "metadata": {},
   "source": [
    "![image-2.png](attachment:image-2.png)"
   ]
  },
  {
   "attachments": {
    "image.png": {
     "image/png": "[encoded data removed]"
    }
   },
   "cell_type": "markdown",
   "id": "0a6025cd",
   "metadata": {},
   "source": [
    "![image.png](attachment:image.png)"
   ]
  },
  {
   "cell_type": "markdown",
   "id": "b1205f41",
   "metadata": {},
   "source": [
    "<div class=\"alert alert-block alert-warning\">\n",
    "Due to the result of the stepwise model selection, we can see 'Number_of_Doors' is not chosen. It is consistant with the Anova test of Model_1(full), in which the p-value of t-test of 'Number_of_Doors' is 0.418. Therefore, we can fit the model of log_MSRP against the 8 chosen variables."
   ]
  },
  {
   "cell_type": "markdown",
   "id": "ce52233d",
   "metadata": {},
   "source": [
    "### Model_2"
   ]
  },
  {
   "cell_type": "code",
   "execution_count": 71,
   "id": "58a8b6e1",
   "metadata": {},
   "outputs": [
    {
     "data": {
      "text/html": [
       "<table class=\"simpletable\">\n",
       "<caption>OLS Regression Results</caption>\n",
       "<tr>\n",
       "  <th>Dep. Variable:</th>        <td>log_MSRP</td>     <th>  R-squared:         </th> <td>   0.845</td>\n",
       "</tr>\n",
       "<tr>\n",
       "  <th>Model:</th>                   <td>OLS</td>       <th>  Adj. R-squared:    </th> <td>   0.845</td>\n",
       "</tr>\n",
       "<tr>\n",
       "  <th>Method:</th>             <td>Least Squares</td>  <th>  F-statistic:       </th> <td>   1878.</td>\n",
       "</tr>\n",
       "<tr>\n",
       "  <th>Date:</th>             <td>Fri, 15 Oct 2021</td> <th>  Prob (F-statistic):</th>  <td>  0.00</td> \n",
       "</tr>\n",
       "<tr>\n",
       "  <th>Time:</th>                 <td>17:40:31</td>     <th>  Log-Likelihood:    </th> <td>  4851.4</td>\n",
       "</tr>\n",
       "<tr>\n",
       "  <th>No. Observations:</th>      <td>  7918</td>      <th>  AIC:               </th> <td>  -9655.</td>\n",
       "</tr>\n",
       "<tr>\n",
       "  <th>Df Residuals:</th>          <td>  7894</td>      <th>  BIC:               </th> <td>  -9487.</td>\n",
       "</tr>\n",
       "<tr>\n",
       "  <th>Df Model:</th>              <td>    23</td>      <th>                     </th>     <td> </td>   \n",
       "</tr>\n",
       "<tr>\n",
       "  <th>Covariance Type:</th>      <td>nonrobust</td>    <th>                     </th>     <td> </td>   \n",
       "</tr>\n",
       "</table>\n",
       "<table class=\"simpletable\">\n",
       "<tr>\n",
       "                   <td></td>                     <th>coef</th>     <th>std err</th>      <th>t</th>      <th>P>|t|</th>  <th>[0.025</th>    <th>0.975]</th>  \n",
       "</tr>\n",
       "<tr>\n",
       "  <th>Intercept</th>                          <td>    9.5144</td> <td>    0.026</td> <td>  372.562</td> <td> 0.000</td> <td>    9.464</td> <td>    9.564</td>\n",
       "</tr>\n",
       "<tr>\n",
       "  <th>Transmission_Type[T.AUTOMATIC]</th>     <td>   -0.1061</td> <td>    0.007</td> <td>  -14.215</td> <td> 0.000</td> <td>   -0.121</td> <td>   -0.092</td>\n",
       "</tr>\n",
       "<tr>\n",
       "  <th>Transmission_Type[T.DIRECT_DRIVE]</th>  <td>   -0.0948</td> <td>    0.093</td> <td>   -1.016</td> <td> 0.310</td> <td>   -0.278</td> <td>    0.088</td>\n",
       "</tr>\n",
       "<tr>\n",
       "  <th>Transmission_Type[T.MANUAL]</th>        <td>   -0.2118</td> <td>    0.008</td> <td>  -26.807</td> <td> 0.000</td> <td>   -0.227</td> <td>   -0.196</td>\n",
       "</tr>\n",
       "<tr>\n",
       "  <th>Driven_Wheels[T.four wheel drive]</th>  <td>   -0.0022</td> <td>    0.007</td> <td>   -0.312</td> <td> 0.755</td> <td>   -0.016</td> <td>    0.011</td>\n",
       "</tr>\n",
       "<tr>\n",
       "  <th>Driven_Wheels[T.front wheel drive]</th> <td>   -0.1451</td> <td>    0.005</td> <td>  -31.300</td> <td> 0.000</td> <td>   -0.154</td> <td>   -0.136</td>\n",
       "</tr>\n",
       "<tr>\n",
       "  <th>Driven_Wheels[T.rear wheel drive]</th>  <td>   -0.0705</td> <td>    0.006</td> <td>  -12.585</td> <td> 0.000</td> <td>   -0.081</td> <td>   -0.060</td>\n",
       "</tr>\n",
       "<tr>\n",
       "  <th>Vehicle_Size[T.Large]</th>              <td>    0.0571</td> <td>    0.006</td> <td>    9.750</td> <td> 0.000</td> <td>    0.046</td> <td>    0.069</td>\n",
       "</tr>\n",
       "<tr>\n",
       "  <th>Vehicle_Size[T.Midsize]</th>            <td>    0.0707</td> <td>    0.004</td> <td>   16.336</td> <td> 0.000</td> <td>    0.062</td> <td>    0.079</td>\n",
       "</tr>\n",
       "<tr>\n",
       "  <th>Vehicle_Style[T.cargo minivan]</th>     <td>    0.1194</td> <td>    0.019</td> <td>    6.128</td> <td> 0.000</td> <td>    0.081</td> <td>    0.158</td>\n",
       "</tr>\n",
       "<tr>\n",
       "  <th>Vehicle_Style[T.cargo van]</th>         <td>    0.0796</td> <td>    0.023</td> <td>    3.418</td> <td> 0.001</td> <td>    0.034</td> <td>    0.125</td>\n",
       "</tr>\n",
       "<tr>\n",
       "  <th>Vehicle_Style[T.convertible]</th>       <td>    0.3103</td> <td>    0.009</td> <td>   34.731</td> <td> 0.000</td> <td>    0.293</td> <td>    0.328</td>\n",
       "</tr>\n",
       "<tr>\n",
       "  <th>Vehicle_Style[T.convertible suv]</th>   <td>    0.1607</td> <td>    0.132</td> <td>    1.222</td> <td> 0.222</td> <td>   -0.097</td> <td>    0.419</td>\n",
       "</tr>\n",
       "<tr>\n",
       "  <th>Vehicle_Style[T.coupe]</th>             <td>    0.0685</td> <td>    0.009</td> <td>    7.729</td> <td> 0.000</td> <td>    0.051</td> <td>    0.086</td>\n",
       "</tr>\n",
       "<tr>\n",
       "  <th>Vehicle_Style[T.hatchback]</th>         <td>    0.0596</td> <td>    0.008</td> <td>    7.259</td> <td> 0.000</td> <td>    0.044</td> <td>    0.076</td>\n",
       "</tr>\n",
       "<tr>\n",
       "  <th>Vehicle_Style[T.passenger minivan]</th> <td>    0.1793</td> <td>    0.010</td> <td>   18.141</td> <td> 0.000</td> <td>    0.160</td> <td>    0.199</td>\n",
       "</tr>\n",
       "<tr>\n",
       "  <th>Vehicle_Style[T.passenger van]</th>     <td>    0.1467</td> <td>    0.015</td> <td>    9.918</td> <td> 0.000</td> <td>    0.118</td> <td>    0.176</td>\n",
       "</tr>\n",
       "<tr>\n",
       "  <th>Vehicle_Style[T.sedan]</th>             <td>    0.0652</td> <td>    0.007</td> <td>    8.721</td> <td> 0.000</td> <td>    0.051</td> <td>    0.080</td>\n",
       "</tr>\n",
       "<tr>\n",
       "  <th>Vehicle_Style[T.suv]</th>               <td>    0.1234</td> <td>    0.006</td> <td>   20.017</td> <td> 0.000</td> <td>    0.111</td> <td>    0.135</td>\n",
       "</tr>\n",
       "<tr>\n",
       "  <th>Vehicle_Style[T.wagon]</th>             <td>    0.1193</td> <td>    0.009</td> <td>   13.427</td> <td> 0.000</td> <td>    0.102</td> <td>    0.137</td>\n",
       "</tr>\n",
       "<tr>\n",
       "  <th>Year</th>                               <td>   -0.0052</td> <td>    0.001</td> <td>   -9.848</td> <td> 0.000</td> <td>   -0.006</td> <td>   -0.004</td>\n",
       "</tr>\n",
       "<tr>\n",
       "  <th>Engine_HP</th>                          <td>    0.0038</td> <td>  4.8e-05</td> <td>   79.608</td> <td> 0.000</td> <td>    0.004</td> <td>    0.004</td>\n",
       "</tr>\n",
       "<tr>\n",
       "  <th>Engine_Cylinders</th>                   <td>   -0.0253</td> <td>    0.002</td> <td>  -10.124</td> <td> 0.000</td> <td>   -0.030</td> <td>   -0.020</td>\n",
       "</tr>\n",
       "<tr>\n",
       "  <th>highway_MPG</th>                        <td>    0.0057</td> <td>    0.001</td> <td>    9.996</td> <td> 0.000</td> <td>    0.005</td> <td>    0.007</td>\n",
       "</tr>\n",
       "</table>\n",
       "<table class=\"simpletable\">\n",
       "<tr>\n",
       "  <th>Omnibus:</th>       <td>374.536</td> <th>  Durbin-Watson:     </th> <td>   1.043</td>\n",
       "</tr>\n",
       "<tr>\n",
       "  <th>Prob(Omnibus):</th> <td> 0.000</td>  <th>  Jarque-Bera (JB):  </th> <td> 156.255</td>\n",
       "</tr>\n",
       "<tr>\n",
       "  <th>Skew:</th>          <td> 0.068</td>  <th>  Prob(JB):          </th> <td>1.17e-34</td>\n",
       "</tr>\n",
       "<tr>\n",
       "  <th>Kurtosis:</th>      <td> 2.325</td>  <th>  Cond. No.          </th> <td>2.17e+04</td>\n",
       "</tr>\n",
       "</table><br/><br/>Notes:<br/>[1] Standard Errors assume that the covariance matrix of the errors is correctly specified.<br/>[2] The condition number is large, 2.17e+04. This might indicate that there are<br/>strong multicollinearity or other numerical problems."
      ],
      "text/plain": [
       "<class 'statsmodels.iolib.summary.Summary'>\n",
       "\"\"\"\n",
       "                            OLS Regression Results                            \n",
       "==============================================================================\n",
       "Dep. Variable:               log_MSRP   R-squared:                       0.845\n",
       "Model:                            OLS   Adj. R-squared:                  0.845\n",
       "Method:                 Least Squares   F-statistic:                     1878.\n",
       "Date:                Fri, 15 Oct 2021   Prob (F-statistic):               0.00\n",
       "Time:                        17:40:31   Log-Likelihood:                 4851.4\n",
       "No. Observations:                7918   AIC:                            -9655.\n",
       "Df Residuals:                    7894   BIC:                            -9487.\n",
       "Df Model:                          23                                         \n",
       "Covariance Type:            nonrobust                                         \n",
       "======================================================================================================\n",
       "                                         coef    std err          t      P>|t|      [0.025      0.975]\n",
       "------------------------------------------------------------------------------------------------------\n",
       "Intercept                              9.5144      0.026    372.562      0.000       9.464       9.564\n",
       "Transmission_Type[T.AUTOMATIC]        -0.1061      0.007    -14.215      0.000      -0.121      -0.092\n",
       "Transmission_Type[T.DIRECT_DRIVE]     -0.0948      0.093     -1.016      0.310      -0.278       0.088\n",
       "Transmission_Type[T.MANUAL]           -0.2118      0.008    -26.807      0.000      -0.227      -0.196\n",
       "Driven_Wheels[T.four wheel drive]     -0.0022      0.007     -0.312      0.755      -0.016       0.011\n",
       "Driven_Wheels[T.front wheel drive]    -0.1451      0.005    -31.300      0.000      -0.154      -0.136\n",
       "Driven_Wheels[T.rear wheel drive]     -0.0705      0.006    -12.585      0.000      -0.081      -0.060\n",
       "Vehicle_Size[T.Large]                  0.0571      0.006      9.750      0.000       0.046       0.069\n",
       "Vehicle_Size[T.Midsize]                0.0707      0.004     16.336      0.000       0.062       0.079\n",
       "Vehicle_Style[T.cargo minivan]         0.1194      0.019      6.128      0.000       0.081       0.158\n",
       "Vehicle_Style[T.cargo van]             0.0796      0.023      3.418      0.001       0.034       0.125\n",
       "Vehicle_Style[T.convertible]           0.3103      0.009     34.731      0.000       0.293       0.328\n",
       "Vehicle_Style[T.convertible suv]       0.1607      0.132      1.222      0.222      -0.097       0.419\n",
       "Vehicle_Style[T.coupe]                 0.0685      0.009      7.729      0.000       0.051       0.086\n",
       "Vehicle_Style[T.hatchback]             0.0596      0.008      7.259      0.000       0.044       0.076\n",
       "Vehicle_Style[T.passenger minivan]     0.1793      0.010     18.141      0.000       0.160       0.199\n",
       "Vehicle_Style[T.passenger van]         0.1467      0.015      9.918      0.000       0.118       0.176\n",
       "Vehicle_Style[T.sedan]                 0.0652      0.007      8.721      0.000       0.051       0.080\n",
       "Vehicle_Style[T.suv]                   0.1234      0.006     20.017      0.000       0.111       0.135\n",
       "Vehicle_Style[T.wagon]                 0.1193      0.009     13.427      0.000       0.102       0.137\n",
       "Year                                  -0.0052      0.001     -9.848      0.000      -0.006      -0.004\n",
       "Engine_HP                              0.0038    4.8e-05     79.608      0.000       0.004       0.004\n",
       "Engine_Cylinders                      -0.0253      0.002    -10.124      0.000      -0.030      -0.020\n",
       "highway_MPG                            0.0057      0.001      9.996      0.000       0.005       0.007\n",
       "==============================================================================\n",
       "Omnibus:                      374.536   Durbin-Watson:                   1.043\n",
       "Prob(Omnibus):                  0.000   Jarque-Bera (JB):              156.255\n",
       "Skew:                           0.068   Prob(JB):                     1.17e-34\n",
       "Kurtosis:                       2.325   Cond. No.                     2.17e+04\n",
       "==============================================================================\n",
       "\n",
       "Notes:\n",
       "[1] Standard Errors assume that the covariance matrix of the errors is correctly specified.\n",
       "[2] The condition number is large, 2.17e+04. This might indicate that there are\n",
       "strong multicollinearity or other numerical problems.\n",
       "\"\"\""
      ]
     },
     "execution_count": 71,
     "metadata": {},
     "output_type": "execute_result"
    }
   ],
   "source": [
    "model_3 =smf.ols('log_MSRP~Year+Engine_HP+Engine_Cylinders+Transmission_Type+Driven_Wheels+Vehicle_Size+Vehicle_Style+highway_MPG', data=df_final).fit()\n",
    "model_3.summary()"
   ]
  },
  {
   "cell_type": "markdown",
   "id": "01d48c7d",
   "metadata": {},
   "source": [
    "<div class=\"alert alert-block alert-warning\">\n",
    "In model 2, we dropped predictor \"Number_of_doors\". Adj. R-squared is still 0.845, while the F-statistic become bigger. p-value of t-test of all the other variables are all much smaller than 0.05(For the category variables, each of them at least has 2 significant dummy variables). Therefore, we think this model performs well."
   ]
  }
 ],
 "metadata": {
  "kernelspec": {
   "display_name": "Python 3",
   "language": "python",
   "name": "python3"
  },
  "language_info": {
   "codemirror_mode": {
    "name": "ipython",
    "version": 3
   },
   "file_extension": ".py",
   "mimetype": "text/x-python",
   "name": "python",
   "nbconvert_exporter": "python",
   "pygments_lexer": "ipython3",
   "version": "3.8.8"
  }
 },
 "nbformat": 4,
 "nbformat_minor": 5
}
